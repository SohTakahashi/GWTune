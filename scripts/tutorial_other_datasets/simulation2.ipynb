{
 "cells": [
  {
   "attachments": {},
   "cell_type": "markdown",
   "metadata": {},
   "source": [
    " # Tutorial for Gromov-Wassserstein unsupervised alignment "
   ]
  },
  {
   "cell_type": "code",
   "execution_count": 127,
   "metadata": {},
   "outputs": [],
   "source": [
    "import os, sys\n",
    "sys.path.append(os.path.join(os.getcwd(), '../../'))\n",
    "\n",
    "import numpy as np\n",
    "import pandas as pd\n",
    "import pickle as pkl\n",
    "import torch\n",
    "\n",
    "from src.align_representations import Representation, AlignRepresentations, OptimizationConfig, VisualizationConfig"
   ]
  },
  {
   "attachments": {},
   "cell_type": "markdown",
   "metadata": {},
   "source": [
    "# Step1: Prepare dissimilarity matrices or embeddings from the data\n",
    "First, you need to prepare dissimilarity matrices or embeddings from your data.  \n",
    "To store dissimilarity matrices or embeddings, an instance of the class `Representation` is used.   \n",
    "Please put your dissimilarity matrices or embeddings into the variables `sim_mat` or `embedding` in this instance.   \n",
    "\n",
    "## Load data\n",
    "`simulation`: Synthetic data illustrating difference between supervised an unsupervised alignment    "
   ]
  },
  {
   "cell_type": "code",
   "execution_count": 128,
   "metadata": {},
   "outputs": [],
   "source": [
    "# list of representations where the instances of \"Representation\" class are included\n",
    "representations = list()\n",
    "\n",
    "# select data : \"simulation\", \"AllenBrain\", \"THINGS\", \"DNN\", \"color\"\n",
    "data_select = \"simulation\""
   ]
  },
  {
   "cell_type": "markdown",
   "metadata": {},
   "source": [
    "### Dataset No.1 `difficulty`"
   ]
  },
  {
   "cell_type": "code",
   "execution_count": null,
   "metadata": {},
   "outputs": [],
   "source": [
    "# correlation = 0.9 # 0.9, 0.8, 0.7\n",
    "n_clusters = 10\n",
    "\n",
    "# data_select += f\"_corr{correlation}\"\n",
    "data_select += f\"_clusters{n_clusters}\"\n",
    "\n",
    "n_representations = 2 # Set the number of the instanses of \"Representation\". This number must be equal to or less than the number of the groups. 2 is the maximum for this data.\n",
    "metric = \"euclidean\" # Please set the metric that can be used in \"scipy.spatical.distance.cdist()\".\n",
    "\n",
    "for i in range(n_representations):\n",
    "    name = f\"Group{i+1}\" # the name of the representation\n",
    "    # embedding = np.load(f\"../../data/difficulty/corr{correlation}/embedding_{i+1}.npy\") # the dissimilarity matrix will be computed with this embedding based on the metric\n",
    "    embedding = np.load(f\"../../data/difficulty/clusters{n_clusters}/embedding_{i+1}.npy\") # the dissimilarity matrix will be computed with this embedding based on the metric\n",
    "    \n",
    "    representation = Representation(\n",
    "        name=name,\n",
    "        embedding=embedding,\n",
    "        metric=metric,\n",
    "        get_embedding=False, # If there is the embeddings, plese set this variable \"False\".\n",
    "    )\n",
    "    \n",
    "    representations.append(representation)"
   ]
  },
  {
   "cell_type": "markdown",
   "metadata": {},
   "source": [
    "# Step 2: Set the parameters for the optimazation of GWOT\n",
    "Second, you need to set the parameters for the optimization of GWOT.    \n",
    "For most of the parameters, you can start with the default values.   \n",
    "However, there are some essential parameters that you need to check for your original applications.  \n",
    "\n",
    "## Optimization Config  \n",
    "\n",
    "#### Most important parameters to check for your application:\n",
    "`eps_list`: The range of the values of epsilon for entropic GWOT.   \n",
    "If epsilon is not in appropriate ranges (if it is too low), the optimization may not work properly.   \n",
    "Although the algorithm will find good epsilon values after many trials, it is a good practice to narrow down the range beforehand.   \n",
    "\n",
    "`num_trial`: The number of trials to test epsilon values from the specified range.   \n",
    "This number directly determines the quality of the unsupervised alignment.   \n",
    "You should set this number high enough to find good local minima. "
   ]
  },
  {
   "cell_type": "code",
   "execution_count": null,
   "metadata": {},
   "outputs": [],
   "source": [
    "eps_list_tutorial = [0.1, 10]\n",
    "device = 'cpu'\n",
    "to_types = 'numpy'\n",
    "multi_gpu = False\n",
    "\n",
    "# whether epsilon is sampled at log scale or not\n",
    "eps_log = True\n",
    "\n",
    "# set the number of trials, i.e., the number of epsilon values evaluated in optimization. default : 4\n",
    "num_trial = 100\n",
    "\n",
    "init_mat_plan = \"uniform\"\n",
    "sampler_name = \"grid\"\n",
    "\n",
    "main_results_dir = \"../../results/\" + data_select\n",
    "if sampler_name == \"grid\" and init_mat_plan == \"random\":\n",
    "    main_results_dir = main_results_dir + f\"/random+grid/\""
   ]
  },
  {
   "cell_type": "code",
   "execution_count": 131,
   "metadata": {},
   "outputs": [],
   "source": [
    "config = OptimizationConfig(    \n",
    "    eps_list = eps_list_tutorial,\n",
    "    eps_log = eps_log,\n",
    "    num_trial = num_trial,\n",
    "    sinkhorn_method='sinkhorn', \n",
    "    \n",
    "    ### Set the device ('cuda' or 'cpu') and variable type ('torch' or 'numpy')\n",
    "    to_types = to_types, # user can choose \"numpy\" or \"torch\". please set \"torch\" if one wants to use GPU.\n",
    "    device = device, # \"cuda\" or \"cpu\"; for numpy, only \"cpu\" can be used. \n",
    "    data_type = \"double\", # user can define the dtypes both for numpy and torch, \"float(=float32)\" or \"double(=float64)\". For using GPU with \"sinkhorn\", double is storongly recommended.\n",
    "    \n",
    "    ### Parallel Computation (requires n_jobs > 1, available both for numpy and torch)\n",
    "    n_jobs = 1, # n_jobs : the number of worker to compute. if n_jobs = 1, normal computation will start. \"Multithread\" is used for Parallel computation.\n",
    "    multi_gpu = multi_gpu, # This parameter is only for \"torch\". # \"True\" : all the GPU installed in your environment are used, \"list (e.g.[0,2,3])\"\" : cuda:0,2,3, and \"False\" : single gpu (or cpu for numpy) will use.\n",
    "\n",
    "    db_params={\"drivername\": \"sqlite\"},\n",
    "    # db_params={\"drivername\": \"mysql+pymysql\", \"username\": \"root\", \"password\": \"****\", \"host\": \"localhost\"},\n",
    "    \n",
    "    ### Set the parameters for optimization\n",
    "    # 'uniform': uniform matrix, 'diag': diagonal matrix', random': random matrix\n",
    "    init_mat_plan = init_mat_plan,\n",
    "    \n",
    "    n_iter = 1,\n",
    "    max_iter = 1000,\n",
    "    \n",
    "    sampler_name = sampler_name,\n",
    "    pruner_name = 'hyperband',\n",
    "    pruner_params = {'n_startup_trials': 1, \n",
    "                     'n_warmup_steps': 2, \n",
    "                     'min_resource': 2, \n",
    "                     'reduction_factor' : 3\n",
    "                    },\n",
    ")"
   ]
  },
  {
   "attachments": {},
   "cell_type": "markdown",
   "metadata": {},
   "source": [
    "## Step 3 : Gromov-Wasserstein Optimal Transport (GWOT) between Representations\n",
    "Third, you perform GWOT between the instanses of \"Representation\", by using the class `AlignRepresentations`.  \n",
    "This class has methods for the optimization of entropic Gromov-Wasserstein distance, and the evaluation of the GWOT (Step 4).  \n",
    "This class also has a method to perform conventional Representation Similarity Analysis (RSA).   "
   ]
  },
  {
   "cell_type": "code",
   "execution_count": 132,
   "metadata": {},
   "outputs": [
    {
     "name": "stdout",
     "output_type": "stream",
     "text": [
      "data_name : simulation_corr0.9\n",
      "pairwise_method : combination\n",
      "All the pairs in the list below will be computed. \n",
      "pair: Group1_vs_Group2 eps_list: [1, 10]\n"
     ]
    }
   ],
   "source": [
    "# Create an \"AlignRepresentations\" instance\n",
    "align_representation = AlignRepresentations(\n",
    "    config=config,\n",
    "    representations_list=representations,   \n",
    "   \n",
    "    # histogram matching : this will adjust the histogram of target to that of source.\n",
    "    histogram_matching=False,\n",
    "\n",
    "    # main_results_dir : folder or file name when saving the result\n",
    "    main_results_dir = main_results_dir,\n",
    "   \n",
    "    # data_name : Please rewrite this name if users want to use their own data.\n",
    "    data_name = data_select,\n",
    ")"
   ]
  },
  {
   "attachments": {},
   "cell_type": "markdown",
   "metadata": {},
   "source": [
    "## Show dissimilarity matrices"
   ]
  },
  {
   "cell_type": "code",
   "execution_count": 133,
   "metadata": {},
   "outputs": [
    {
     "data": {
      "image/png": "[encoded data removed]",
      "text/plain": [
       "<Figure size 800x600 with 2 Axes>"
      ]
     },
     "metadata": {},
     "output_type": "display_data"
    },
    {
     "data": {
      "image/png": "[encoded data removed]",
      "text/plain": [
       "<Figure size 800x600 with 2 Axes>"
      ]
     },
     "metadata": {},
     "output_type": "display_data"
    }
   ],
   "source": [
    "sim_mat_format = \"default\"\n",
    "\n",
    "visualize_config = VisualizationConfig(\n",
    "    figsize=(8, 6), \n",
    "    title_size = 15, \n",
    "    ot_object_tick=True,\n",
    ")\n",
    "\n",
    "visualize_hist = VisualizationConfig(figsize=(8, 6), color='C0')\n",
    "\n",
    "sim_mat = align_representation.show_sim_mat(\n",
    "    sim_mat_format = sim_mat_format, \n",
    "    visualization_config = visualize_config,\n",
    "    visualization_config_hist = visualize_hist,\n",
    "    show_distribution=False, # if True, the histogram figure of the sim_mat will be shown. visualization_config_hist will be used for adjusting this figure.\n",
    ")"
   ]
  },
  {
   "attachments": {},
   "cell_type": "markdown",
   "metadata": {},
   "source": [
    "## Reperesentation Similarity Aanalysis (RSA)\n",
    "This performs a conventional representation similarity analysis."
   ]
  },
  {
   "cell_type": "code",
   "execution_count": 134,
   "metadata": {},
   "outputs": [
    {
     "name": "stdout",
     "output_type": "stream",
     "text": [
      "Correlation Group1 vs Group2 : 0.8820813114688318\n"
     ]
    }
   ],
   "source": [
    "### parameters for computing RSA\n",
    "# metric = \"pearson\" or \"spearman\" by scipy.stats\n",
    "# The result of RSA for each pair will be stored in align_representation.RSA_corr\n",
    "align_representation.RSA_get_corr(metric = \"pearson\")\n",
    "\n",
    "# print(align_representation.RSA_corr)"
   ]
  },
  {
   "attachments": {},
   "cell_type": "markdown",
   "metadata": {},
   "source": [
    "## GWOT\n",
    "The optimization results are saved in the folder named \"config.data_name\" + \"representations.name\" vs \"representation.name\".  \n",
    "If you want to change the name of the saved folder, please make changes to \"config.data_name\" and \"representations.name\" (or change the \"filename\" in the code block below)."
   ]
  },
  {
   "cell_type": "markdown",
   "metadata": {},
   "source": [
    "GWOT is performed by appling the method `gw_alignment` to the instance of `AlignRepresentations` class.\n",
    "\n",
    "We show all the parameters to run GWOT computation as an example with THINGS or DNN dataset because these dataset have category information label.\n",
    "\n",
    "For the dataset of color, AllenBrain, and simulation (these doesn’t have the category information), we show how to do this in next cell. "
   ]
  },
  {
   "cell_type": "markdown",
   "metadata": {},
   "source": [
    "Here is the example to compute the GWOT for each pair for color, AllenBrain, and simulation datasets below."
   ]
  },
  {
   "cell_type": "code",
   "execution_count": 135,
   "metadata": {},
   "outputs": [],
   "source": [
    "compute_OT = True"
   ]
  },
  {
   "cell_type": "code",
   "execution_count": 136,
   "metadata": {},
   "outputs": [
    {
     "name": "stdout",
     "output_type": "stream",
     "text": [
      "Study for simulation_corr0.9_Group1_vs_Group2_uniform was not found, creating a new one...\n"
     ]
    },
    {
     "name": "stderr",
     "output_type": "stream",
     "text": [
      "[I 2024-12-23 17:41:04,512] A new study created in RDB with name: simulation_corr0.9_Group1_vs_Group2_uniform\n"
     ]
    },
    {
     "data": {
      "application/vnd.jupyter.widget-view+json": {
       "model_id": "50d5644a0fed4ac98d5a55812d8471aa",
       "version_major": 2,
       "version_minor": 0
      },
      "text/plain": [
       "  0%|          | 0/1 [00:00<?, ?it/s]"
      ]
     },
     "metadata": {},
     "output_type": "display_data"
    },
    {
     "name": "stderr",
     "output_type": "stream",
     "text": [
      "/home1/user/ken-takeda/GWTune/.venv/lib/python3.9/site-packages/ot/bregman.py:535: UserWarning: Sinkhorn did not converge. You might want to increase the number of iterations `numItermax` or the regularization parameter `reg`.\n",
      "  warnings.warn(\"Sinkhorn did not converge. You might want to \"\n",
      "[I 2024-12-23 17:41:08,723] Trial 0 finished with value: 6.315613215719294 and parameters: {'eps': 6.892612104349698}. Best is trial 0 with value: 6.315613215719294.\n"
     ]
    },
    {
     "data": {
      "application/vnd.jupyter.widget-view+json": {
       "model_id": "e8f9466876734358bff2f901341fe838",
       "version_major": 2,
       "version_minor": 0
      },
      "text/plain": [
       "  0%|          | 0/1 [00:00<?, ?it/s]"
      ]
     },
     "metadata": {},
     "output_type": "display_data"
    },
    {
     "name": "stderr",
     "output_type": "stream",
     "text": [
      "[I 2024-12-23 17:41:10,181] Trial 1 finished with value: 7.756174630534975 and parameters: {'eps': 3.4304692863149184}. Best is trial 0 with value: 6.315613215719294.\n"
     ]
    },
    {
     "data": {
      "application/vnd.jupyter.widget-view+json": {
       "model_id": "84a84b841e714f7c8b57468cdc67732c",
       "version_major": 2,
       "version_minor": 0
      },
      "text/plain": [
       "  0%|          | 0/1 [00:00<?, ?it/s]"
      ]
     },
     "metadata": {},
     "output_type": "display_data"
    },
    {
     "name": "stderr",
     "output_type": "stream",
     "text": [
      "[I 2024-12-23 17:41:12,084] Trial 2 finished with value: 6.7621634091937075 and parameters: {'eps': 5.09413801481638}. Best is trial 0 with value: 6.315613215719294.\n"
     ]
    },
    {
     "data": {
      "application/vnd.jupyter.widget-view+json": {
       "model_id": "15b672137bdb4a6fb845373018fd8652",
       "version_major": 2,
       "version_minor": 0
      },
      "text/plain": [
       "  0%|          | 0/1 [00:00<?, ?it/s]"
      ]
     },
     "metadata": {},
     "output_type": "display_data"
    },
    {
     "name": "stderr",
     "output_type": "stream",
     "text": [
      "[I 2024-12-23 17:41:13,546] Trial 3 finished with value: 7.420282686264493 and parameters: {'eps': 2.848035868435802}. Best is trial 0 with value: 6.315613215719294.\n"
     ]
    },
    {
     "data": {
      "application/vnd.jupyter.widget-view+json": {
       "model_id": "c1da924b79d84d50b198208c9d68f7bd",
       "version_major": 2,
       "version_minor": 0
      },
      "text/plain": [
       "  0%|          | 0/1 [00:00<?, ?it/s]"
      ]
     },
     "metadata": {},
     "output_type": "display_data"
    },
    {
     "name": "stderr",
     "output_type": "stream",
     "text": [
      "[I 2024-12-23 17:41:15,014] Trial 4 finished with value: 7.414722738047647 and parameters: {'eps': 2.782559402207125}. Best is trial 0 with value: 6.315613215719294.\n"
     ]
    },
    {
     "data": {
      "application/vnd.jupyter.widget-view+json": {
       "model_id": "18ff34e9c4f4405c8a308122789c42f3",
       "version_major": 2,
       "version_minor": 0
      },
      "text/plain": [
       "  0%|          | 0/1 [00:00<?, ?it/s]"
      ]
     },
     "metadata": {},
     "output_type": "display_data"
    },
    {
     "name": "stderr",
     "output_type": "stream",
     "text": [
      "[I 2024-12-23 17:41:16,840] Trial 5 finished with value: 7.954817560409585 and parameters: {'eps': 2.477076355991711}. Best is trial 0 with value: 6.315613215719294.\n"
     ]
    },
    {
     "data": {
      "application/vnd.jupyter.widget-view+json": {
       "model_id": "e6608b6b04d0454d8894cbe5a8188c6f",
       "version_major": 2,
       "version_minor": 0
      },
      "text/plain": [
       "  0%|          | 0/1 [00:00<?, ?it/s]"
      ]
     },
     "metadata": {},
     "output_type": "display_data"
    },
    {
     "name": "stderr",
     "output_type": "stream",
     "text": [
      "[I 2024-12-23 17:41:20,110] Trial 6 finished with value: 8.025038282428667 and parameters: {'eps': 1.6681005372000588}. Best is trial 0 with value: 6.315613215719294.\n"
     ]
    },
    {
     "data": {
      "application/vnd.jupyter.widget-view+json": {
       "model_id": "471fc771b3c846d38e75886fe0ff7b9f",
       "version_major": 2,
       "version_minor": 0
      },
      "text/plain": [
       "  0%|          | 0/1 [00:00<?, ?it/s]"
      ]
     },
     "metadata": {},
     "output_type": "display_data"
    },
    {
     "name": "stderr",
     "output_type": "stream",
     "text": [
      "[I 2024-12-23 17:41:22,591] Trial 7 finished with value: 6.98534779800912 and parameters: {'eps': 6.428073117284322}. Best is trial 0 with value: 6.315613215719294.\n"
     ]
    },
    {
     "data": {
      "application/vnd.jupyter.widget-view+json": {
       "model_id": "0b7c5667a40743f1826692fd430b90a6",
       "version_major": 2,
       "version_minor": 0
      },
      "text/plain": [
       "  0%|          | 0/1 [00:00<?, ?it/s]"
      ]
     },
     "metadata": {},
     "output_type": "display_data"
    },
    {
     "name": "stderr",
     "output_type": "stream",
     "text": [
      "[I 2024-12-23 17:41:29,290] Trial 8 finished with value: 7.898186471386472 and parameters: {'eps': 1.2618568830660204}. Best is trial 0 with value: 6.315613215719294.\n"
     ]
    },
    {
     "data": {
      "application/vnd.jupyter.widget-view+json": {
       "model_id": "f0b6b75e757f4adc963be87589e1ea5d",
       "version_major": 2,
       "version_minor": 0
      },
      "text/plain": [
       "  0%|          | 0/1 [00:00<?, ?it/s]"
      ]
     },
     "metadata": {},
     "output_type": "display_data"
    },
    {
     "name": "stderr",
     "output_type": "stream",
     "text": [
      "[I 2024-12-23 17:41:37,150] Trial 9 finished with value: 9.605768542917746 and parameters: {'eps': 1.0}. Best is trial 0 with value: 6.315613215719294.\n"
     ]
    },
    {
     "data": {
      "application/vnd.jupyter.widget-view+json": {
       "model_id": "9fc32112c67d4e20948d7b68090d684d",
       "version_major": 2,
       "version_minor": 0
      },
      "text/plain": [
       "  0%|          | 0/1 [00:00<?, ?it/s]"
      ]
     },
     "metadata": {},
     "output_type": "display_data"
    },
    {
     "name": "stderr",
     "output_type": "stream",
     "text": [
      "[I 2024-12-23 17:41:41,079] Trial 10 finished with value: 8.049944221937533 and parameters: {'eps': 1.5199110829529336}. Best is trial 0 with value: 6.315613215719294.\n"
     ]
    },
    {
     "data": {
      "application/vnd.jupyter.widget-view+json": {
       "model_id": "3890e69c2e874e6b917250a346631a33",
       "version_major": 2,
       "version_minor": 0
      },
      "text/plain": [
       "  0%|          | 0/1 [00:00<?, ?it/s]"
      ]
     },
     "metadata": {},
     "output_type": "display_data"
    },
    {
     "name": "stderr",
     "output_type": "stream",
     "text": [
      "[I 2024-12-23 17:41:43,229] Trial 11 finished with value: 8.055066019003501 and parameters: {'eps': 2.0092330025650473}. Best is trial 0 with value: 6.315613215719294.\n"
     ]
    },
    {
     "data": {
      "application/vnd.jupyter.widget-view+json": {
       "model_id": "183551e347ed45229339cd031d606cdc",
       "version_major": 2,
       "version_minor": 0
      },
      "text/plain": [
       "  0%|          | 0/1 [00:00<?, ?it/s]"
      ]
     },
     "metadata": {},
     "output_type": "display_data"
    },
    {
     "name": "stderr",
     "output_type": "stream",
     "text": [
      "[I 2024-12-23 17:41:45,060] Trial 12 finished with value: 6.558083438565756 and parameters: {'eps': 5.462277217684343}. Best is trial 0 with value: 6.315613215719294.\n"
     ]
    },
    {
     "data": {
      "application/vnd.jupyter.widget-view+json": {
       "model_id": "8c893e68d94849209933bf37e4a37a0a",
       "version_major": 2,
       "version_minor": 0
      },
      "text/plain": [
       "  0%|          | 0/1 [00:00<?, ?it/s]"
      ]
     },
     "metadata": {},
     "output_type": "display_data"
    },
    {
     "name": "stderr",
     "output_type": "stream",
     "text": [
      "[I 2024-12-23 17:41:46,967] Trial 13 finished with value: 8.073095031492407 and parameters: {'eps': 2.154434690031884}. Best is trial 0 with value: 6.315613215719294.\n"
     ]
    },
    {
     "data": {
      "application/vnd.jupyter.widget-view+json": {
       "model_id": "4a7c0e969f5844599fac934e43aecf74",
       "version_major": 2,
       "version_minor": 0
      },
      "text/plain": [
       "  0%|          | 0/1 [00:00<?, ?it/s]"
      ]
     },
     "metadata": {},
     "output_type": "display_data"
    },
    {
     "name": "stderr",
     "output_type": "stream",
     "text": [
      "[I 2024-12-23 17:41:49,825] Trial 14 finished with value: 33.796030205706 and parameters: {'eps': 8.111308307896872}. Best is trial 0 with value: 6.315613215719294.\n"
     ]
    },
    {
     "data": {
      "application/vnd.jupyter.widget-view+json": {
       "model_id": "7da33752319847b99ec2158df835f456",
       "version_major": 2,
       "version_minor": 0
      },
      "text/plain": [
       "  0%|          | 0/1 [00:00<?, ?it/s]"
      ]
     },
     "metadata": {},
     "output_type": "display_data"
    },
    {
     "name": "stderr",
     "output_type": "stream",
     "text": [
      "[I 2024-12-23 17:41:55,470] Trial 15 finished with value: 8.880940414252082 and parameters: {'eps': 1.0974987654930561}. Best is trial 0 with value: 6.315613215719294.\n"
     ]
    },
    {
     "data": {
      "application/vnd.jupyter.widget-view+json": {
       "model_id": "f9bcf6e725644f5a92a5ed16577435b3",
       "version_major": 2,
       "version_minor": 0
      },
      "text/plain": [
       "  0%|          | 0/1 [00:00<?, ?it/s]"
      ]
     },
     "metadata": {},
     "output_type": "display_data"
    },
    {
     "name": "stderr",
     "output_type": "stream",
     "text": [
      "[I 2024-12-23 17:41:57,616] Trial 16 finished with value: 6.601089521866482 and parameters: {'eps': 5.857020818056667}. Best is trial 0 with value: 6.315613215719294.\n"
     ]
    },
    {
     "data": {
      "application/vnd.jupyter.widget-view+json": {
       "model_id": "d7803d48682e4824adb2cdc9e676d6ee",
       "version_major": 2,
       "version_minor": 0
      },
      "text/plain": [
       "  0%|          | 0/1 [00:00<?, ?it/s]"
      ]
     },
     "metadata": {},
     "output_type": "display_data"
    },
    {
     "name": "stderr",
     "output_type": "stream",
     "text": [
      "[I 2024-12-23 17:41:59,756] Trial 17 finished with value: 6.89639472383017 and parameters: {'eps': 5.99484250318941}. Best is trial 0 with value: 6.315613215719294.\n"
     ]
    },
    {
     "data": {
      "application/vnd.jupyter.widget-view+json": {
       "model_id": "5e8a913ed1c043bc833db5006116d14b",
       "version_major": 2,
       "version_minor": 0
      },
      "text/plain": [
       "  0%|          | 0/1 [00:00<?, ?it/s]"
      ]
     },
     "metadata": {},
     "output_type": "display_data"
    },
    {
     "name": "stderr",
     "output_type": "stream",
     "text": [
      "[I 2024-12-23 17:42:09,703] Trial 18 finished with value: 7.933544738841055 and parameters: {'eps': 1.321941148466029}. Best is trial 0 with value: 6.315613215719294.\n"
     ]
    },
    {
     "data": {
      "application/vnd.jupyter.widget-view+json": {
       "model_id": "21702016fa004ed9ba9c283b4a07ef40",
       "version_major": 2,
       "version_minor": 0
      },
      "text/plain": [
       "  0%|          | 0/1 [00:00<?, ?it/s]"
      ]
     },
     "metadata": {},
     "output_type": "display_data"
    },
    {
     "name": "stderr",
     "output_type": "stream",
     "text": [
      "[I 2024-12-23 17:42:11,730] Trial 19 finished with value: 8.045097830729002 and parameters: {'eps': 2.0565123083486516}. Best is trial 0 with value: 6.315613215719294.\n"
     ]
    },
    {
     "data": {
      "application/vnd.jupyter.widget-view+json": {
       "model_id": "cf1ec64d93564e2aae94005ffaa1f130",
       "version_major": 2,
       "version_minor": 0
      },
      "text/plain": [
       "  0%|          | 0/1 [00:00<?, ?it/s]"
      ]
     },
     "metadata": {},
     "output_type": "display_data"
    },
    {
     "name": "stderr",
     "output_type": "stream",
     "text": [
      "[I 2024-12-23 17:42:13,265] Trial 20 finished with value: 7.61792338877984 and parameters: {'eps': 3.5938136638046276}. Best is trial 0 with value: 6.315613215719294.\n"
     ]
    },
    {
     "data": {
      "application/vnd.jupyter.widget-view+json": {
       "model_id": "64a7f787fb3f429ebba9015f0850b565",
       "version_major": 2,
       "version_minor": 0
      },
      "text/plain": [
       "  0%|          | 0/1 [00:00<?, ?it/s]"
      ]
     },
     "metadata": {},
     "output_type": "display_data"
    },
    {
     "name": "stderr",
     "output_type": "stream",
     "text": [
      "[I 2024-12-23 17:42:16,043] Trial 21 finished with value: 32.315853881682095 and parameters: {'eps': 7.742636826811272}. Best is trial 0 with value: 6.315613215719294.\n"
     ]
    },
    {
     "data": {
      "application/vnd.jupyter.widget-view+json": {
       "model_id": "90265ab8ecd9417aa415276b774910a1",
       "version_major": 2,
       "version_minor": 0
      },
      "text/plain": [
       "  0%|          | 0/1 [00:00<?, ?it/s]"
      ]
     },
     "metadata": {},
     "output_type": "display_data"
    },
    {
     "name": "stderr",
     "output_type": "stream",
     "text": [
      "[I 2024-12-23 17:42:19,060] Trial 22 finished with value: 8.447172490935028 and parameters: {'eps': 1.8307382802953682}. Best is trial 0 with value: 6.315613215719294.\n"
     ]
    },
    {
     "data": {
      "application/vnd.jupyter.widget-view+json": {
       "model_id": "8676355fce5041f891340d7836487dd5",
       "version_major": 2,
       "version_minor": 0
      },
      "text/plain": [
       "  0%|          | 0/1 [00:00<?, ?it/s]"
      ]
     },
     "metadata": {},
     "output_type": "display_data"
    },
    {
     "name": "stderr",
     "output_type": "stream",
     "text": [
      "[I 2024-12-23 17:42:20,925] Trial 23 finished with value: 7.7885975075716605 and parameters: {'eps': 2.6560877829466865}. Best is trial 0 with value: 6.315613215719294.\n"
     ]
    },
    {
     "data": {
      "application/vnd.jupyter.widget-view+json": {
       "model_id": "598b209705124a0da59b4d9d822341c0",
       "version_major": 2,
       "version_minor": 0
      },
      "text/plain": [
       "  0%|          | 0/1 [00:00<?, ?it/s]"
      ]
     },
     "metadata": {},
     "output_type": "display_data"
    },
    {
     "name": "stderr",
     "output_type": "stream",
     "text": [
      "[I 2024-12-23 17:42:22,859] Trial 24 finished with value: 6.94857240564097 and parameters: {'eps': 4.977023564332112}. Best is trial 0 with value: 6.315613215719294.\n"
     ]
    },
    {
     "data": {
      "application/vnd.jupyter.widget-view+json": {
       "model_id": "68bdc5c617814c9098aaef7d8b08dd41",
       "version_major": 2,
       "version_minor": 0
      },
      "text/plain": [
       "  0%|          | 0/1 [00:00<?, ?it/s]"
      ]
     },
     "metadata": {},
     "output_type": "display_data"
    },
    {
     "name": "stderr",
     "output_type": "stream",
     "text": [
      "[I 2024-12-23 17:42:27,336] Trial 25 finished with value: 8.002736582329508 and parameters: {'eps': 1.4174741629268053}. Best is trial 0 with value: 6.315613215719294.\n"
     ]
    },
    {
     "data": {
      "application/vnd.jupyter.widget-view+json": {
       "model_id": "aaa9fd3cb8df40a7a56f150b6fc7abe2",
       "version_major": 2,
       "version_minor": 0
      },
      "text/plain": [
       "  0%|          | 0/1 [00:00<?, ?it/s]"
      ]
     },
     "metadata": {},
     "output_type": "display_data"
    },
    {
     "name": "stderr",
     "output_type": "stream",
     "text": [
      "[I 2024-12-23 17:42:29,529] Trial 26 finished with value: 8.259280965331563 and parameters: {'eps': 2.535364493970112}. Best is trial 0 with value: 6.315613215719294.\n"
     ]
    },
    {
     "data": {
      "application/vnd.jupyter.widget-view+json": {
       "model_id": "0e16100fca2247ab9c6a410efb64a46d",
       "version_major": 2,
       "version_minor": 0
      },
      "text/plain": [
       "  0%|          | 0/1 [00:00<?, ?it/s]"
      ]
     },
     "metadata": {},
     "output_type": "display_data"
    },
    {
     "name": "stderr",
     "output_type": "stream",
     "text": [
      "[I 2024-12-23 17:42:30,540] Trial 27 finished with value: 36.11235552847017 and parameters: {'eps': 9.326033468832199}. Best is trial 0 with value: 6.315613215719294.\n"
     ]
    },
    {
     "data": {
      "application/vnd.jupyter.widget-view+json": {
       "model_id": "a61c8a1e9edb43c783154600fbc19a03",
       "version_major": 2,
       "version_minor": 0
      },
      "text/plain": [
       "  0%|          | 0/1 [00:00<?, ?it/s]"
      ]
     },
     "metadata": {},
     "output_type": "display_data"
    },
    {
     "name": "stderr",
     "output_type": "stream",
     "text": [
      "[I 2024-12-23 17:42:37,591] Trial 28 finished with value: 7.880203514560677 and parameters: {'eps': 1.2328467394420661}. Best is trial 0 with value: 6.315613215719294.\n"
     ]
    },
    {
     "data": {
      "application/vnd.jupyter.widget-view+json": {
       "model_id": "115dbb48891741c984694a332f0525eb",
       "version_major": 2,
       "version_minor": 0
      },
      "text/plain": [
       "  0%|          | 0/1 [00:00<?, ?it/s]"
      ]
     },
     "metadata": {},
     "output_type": "display_data"
    },
    {
     "name": "stderr",
     "output_type": "stream",
     "text": [
      "[I 2024-12-23 17:42:39,453] Trial 29 finished with value: 6.622648705951981 and parameters: {'eps': 5.3366992312063095}. Best is trial 0 with value: 6.315613215719294.\n"
     ]
    },
    {
     "data": {
      "application/vnd.jupyter.widget-view+json": {
       "model_id": "aa4e733010bb4ab78a86bd408ae6ab71",
       "version_major": 2,
       "version_minor": 0
      },
      "text/plain": [
       "  0%|          | 0/1 [00:00<?, ?it/s]"
      ]
     },
     "metadata": {},
     "output_type": "display_data"
    },
    {
     "name": "stderr",
     "output_type": "stream",
     "text": [
      "[I 2024-12-23 17:42:48,475] Trial 30 finished with value: 7.916053561631301 and parameters: {'eps': 1.2915496650148839}. Best is trial 0 with value: 6.315613215719294.\n"
     ]
    },
    {
     "data": {
      "application/vnd.jupyter.widget-view+json": {
       "model_id": "69ea46c67d31412494bd1feed72eacf5",
       "version_major": 2,
       "version_minor": 0
      },
      "text/plain": [
       "  0%|          | 0/1 [00:00<?, ?it/s]"
      ]
     },
     "metadata": {},
     "output_type": "display_data"
    },
    {
     "name": "stderr",
     "output_type": "stream",
     "text": [
      "[I 2024-12-23 17:42:49,951] Trial 31 finished with value: 7.431038953763958 and parameters: {'eps': 2.9836472402833394}. Best is trial 0 with value: 6.315613215719294.\n"
     ]
    },
    {
     "data": {
      "application/vnd.jupyter.widget-view+json": {
       "model_id": "641b7b2e0999478086e13dc2c04f393b",
       "version_major": 2,
       "version_minor": 0
      },
      "text/plain": [
       "  0%|          | 0/1 [00:00<?, ?it/s]"
      ]
     },
     "metadata": {},
     "output_type": "display_data"
    },
    {
     "name": "stderr",
     "output_type": "stream",
     "text": [
      "[I 2024-12-23 17:42:57,647] Trial 32 finished with value: 6.662861697810934 and parameters: {'eps': 7.220809018385466}. Best is trial 0 with value: 6.315613215719294.\n"
     ]
    },
    {
     "data": {
      "application/vnd.jupyter.widget-view+json": {
       "model_id": "1b8238e891234c31b7de57b80bbdb14e",
       "version_major": 2,
       "version_minor": 0
      },
      "text/plain": [
       "  0%|          | 0/1 [00:00<?, ?it/s]"
      ]
     },
     "metadata": {},
     "output_type": "display_data"
    },
    {
     "name": "stderr",
     "output_type": "stream",
     "text": [
      "[I 2024-12-23 17:43:00,335] Trial 33 finished with value: 7.958828874255283 and parameters: {'eps': 1.9179102616724888}. Best is trial 0 with value: 6.315613215719294.\n"
     ]
    },
    {
     "data": {
      "application/vnd.jupyter.widget-view+json": {
       "model_id": "ee3db2c0ccb0466eb3c497ca4f27096f",
       "version_major": 2,
       "version_minor": 0
      },
      "text/plain": [
       "  0%|          | 0/1 [00:00<?, ?it/s]"
      ]
     },
     "metadata": {},
     "output_type": "display_data"
    },
    {
     "name": "stderr",
     "output_type": "stream",
     "text": [
      "[I 2024-12-23 17:43:01,873] Trial 34 finished with value: 35.922833613688006 and parameters: {'eps': 8.697490026177835}. Best is trial 0 with value: 6.315613215719294.\n"
     ]
    },
    {
     "data": {
      "application/vnd.jupyter.widget-view+json": {
       "model_id": "d51a817d720241b3b4480fc3ff8550c2",
       "version_major": 2,
       "version_minor": 0
      },
      "text/plain": [
       "  0%|          | 0/1 [00:00<?, ?it/s]"
      ]
     },
     "metadata": {},
     "output_type": "display_data"
    },
    {
     "name": "stderr",
     "output_type": "stream",
     "text": [
      "[I 2024-12-23 17:43:07,370] Trial 35 finished with value: 9.372281118939743 and parameters: {'eps': 1.1233240329780274}. Best is trial 0 with value: 6.315613215719294.\n"
     ]
    },
    {
     "data": {
      "application/vnd.jupyter.widget-view+json": {
       "model_id": "b46ce48c878f4a04a4fec3df6a55eec2",
       "version_major": 2,
       "version_minor": 0
      },
      "text/plain": [
       "  0%|          | 0/1 [00:00<?, ?it/s]"
      ]
     },
     "metadata": {},
     "output_type": "display_data"
    },
    {
     "name": "stderr",
     "output_type": "stream",
     "text": [
      "[I 2024-12-23 17:43:08,927] Trial 36 finished with value: 7.468084212898803 and parameters: {'eps': 4.641588833612779}. Best is trial 0 with value: 6.315613215719294.\n"
     ]
    },
    {
     "data": {
      "application/vnd.jupyter.widget-view+json": {
       "model_id": "8a4c2b1e541c46c5b5b28b29d5a717a3",
       "version_major": 2,
       "version_minor": 0
      },
      "text/plain": [
       "  0%|          | 0/1 [00:00<?, ?it/s]"
      ]
     },
     "metadata": {},
     "output_type": "display_data"
    },
    {
     "name": "stderr",
     "output_type": "stream",
     "text": [
      "[I 2024-12-23 17:43:10,822] Trial 37 finished with value: 7.42631974900726 and parameters: {'eps': 4.534878508128582}. Best is trial 0 with value: 6.315613215719294.\n"
     ]
    },
    {
     "data": {
      "application/vnd.jupyter.widget-view+json": {
       "model_id": "a86afb7e4d47497eadbf0b03db3e285e",
       "version_major": 2,
       "version_minor": 0
      },
      "text/plain": [
       "  0%|          | 0/1 [00:00<?, ?it/s]"
      ]
     },
     "metadata": {},
     "output_type": "display_data"
    },
    {
     "name": "stderr",
     "output_type": "stream",
     "text": [
      "[I 2024-12-23 17:43:12,734] Trial 38 finished with value: 8.0883417725205 and parameters: {'eps': 2.25701971963392}. Best is trial 0 with value: 6.315613215719294.\n"
     ]
    },
    {
     "data": {
      "application/vnd.jupyter.widget-view+json": {
       "model_id": "aefc70c65cde48fd8a0b4e41a9fdb798",
       "version_major": 2,
       "version_minor": 0
      },
      "text/plain": [
       "  0%|          | 0/1 [00:00<?, ?it/s]"
      ]
     },
     "metadata": {},
     "output_type": "display_data"
    },
    {
     "name": "stderr",
     "output_type": "stream",
     "text": [
      "[I 2024-12-23 17:43:16,852] Trial 39 finished with value: 8.019047395018799 and parameters: {'eps': 1.4508287784959397}. Best is trial 0 with value: 6.315613215719294.\n"
     ]
    },
    {
     "data": {
      "application/vnd.jupyter.widget-view+json": {
       "model_id": "c38e39b5509e44b899bed5e3b7ceb10a",
       "version_major": 2,
       "version_minor": 0
      },
      "text/plain": [
       "  0%|          | 0/1 [00:00<?, ?it/s]"
      ]
     },
     "metadata": {},
     "output_type": "display_data"
    },
    {
     "name": "stderr",
     "output_type": "stream",
     "text": [
      "[I 2024-12-23 17:43:18,418] Trial 40 finished with value: 7.441433087665272 and parameters: {'eps': 3.1257158496882362}. Best is trial 0 with value: 6.315613215719294.\n"
     ]
    },
    {
     "data": {
      "application/vnd.jupyter.widget-view+json": {
       "model_id": "f36c6797837644b8bfe9499598086c3b",
       "version_major": 2,
       "version_minor": 0
      },
      "text/plain": [
       "  0%|          | 0/1 [00:00<?, ?it/s]"
      ]
     },
     "metadata": {},
     "output_type": "display_data"
    },
    {
     "name": "stderr",
     "output_type": "stream",
     "text": [
      "[I 2024-12-23 17:43:20,334] Trial 41 finished with value: 8.08083284862137 and parameters: {'eps': 2.205130739903046}. Best is trial 0 with value: 6.315613215719294.\n"
     ]
    },
    {
     "data": {
      "application/vnd.jupyter.widget-view+json": {
       "model_id": "fe98237ffc394f0fa07165176a1bbd18",
       "version_major": 2,
       "version_minor": 0
      },
      "text/plain": [
       "  0%|          | 0/1 [00:00<?, ?it/s]"
      ]
     },
     "metadata": {},
     "output_type": "display_data"
    },
    {
     "name": "stderr",
     "output_type": "stream",
     "text": [
      "[I 2024-12-23 17:43:26,417] Trial 42 finished with value: 7.844311272475899 and parameters: {'eps': 1.1768119524349985}. Best is trial 0 with value: 6.315613215719294.\n"
     ]
    },
    {
     "data": {
      "application/vnd.jupyter.widget-view+json": {
       "model_id": "d32bd7fc6cd04afa841b19f78b82e845",
       "version_major": 2,
       "version_minor": 0
      },
      "text/plain": [
       "  0%|          | 0/1 [00:00<?, ?it/s]"
      ]
     },
     "metadata": {},
     "output_type": "display_data"
    },
    {
     "name": "stderr",
     "output_type": "stream",
     "text": [
      "[I 2024-12-23 17:43:27,578] Trial 43 finished with value: 36.050888849965084 and parameters: {'eps': 9.111627561154894}. Best is trial 0 with value: 6.315613215719294.\n"
     ]
    },
    {
     "data": {
      "application/vnd.jupyter.widget-view+json": {
       "model_id": "9f76758e393c474fb1e482fedf4f1c14",
       "version_major": 2,
       "version_minor": 0
      },
      "text/plain": [
       "  0%|          | 0/1 [00:00<?, ?it/s]"
      ]
     },
     "metadata": {},
     "output_type": "display_data"
    },
    {
     "name": "stderr",
     "output_type": "stream",
     "text": [
      "[I 2024-12-23 17:43:30,587] Trial 44 finished with value: 8.015493791597528 and parameters: {'eps': 1.873817422860384}. Best is trial 0 with value: 6.315613215719294.\n"
     ]
    },
    {
     "data": {
      "application/vnd.jupyter.widget-view+json": {
       "model_id": "8cbf51f974624091a3eae851bcae38b7",
       "version_major": 2,
       "version_minor": 0
      },
      "text/plain": [
       "  0%|          | 0/1 [00:00<?, ?it/s]"
      ]
     },
     "metadata": {},
     "output_type": "display_data"
    },
    {
     "name": "stderr",
     "output_type": "stream",
     "text": [
      "[I 2024-12-23 17:43:34,238] Trial 45 finished with value: 8.064549585860009 and parameters: {'eps': 1.5556761439304718}. Best is trial 0 with value: 6.315613215719294.\n"
     ]
    },
    {
     "data": {
      "application/vnd.jupyter.widget-view+json": {
       "model_id": "1074779d4ceb466685443a5bd81ee1d7",
       "version_major": 2,
       "version_minor": 0
      },
      "text/plain": [
       "  0%|          | 0/1 [00:00<?, ?it/s]"
      ]
     },
     "metadata": {},
     "output_type": "display_data"
    },
    {
     "name": "stderr",
     "output_type": "stream",
     "text": [
      "[I 2024-12-23 17:43:37,079] Trial 46 finished with value: 6.973362708603109 and parameters: {'eps': 6.579332246575681}. Best is trial 0 with value: 6.315613215719294.\n"
     ]
    },
    {
     "data": {
      "application/vnd.jupyter.widget-view+json": {
       "model_id": "ead1aa4c6e7f49989d3f9e17660a5e23",
       "version_major": 2,
       "version_minor": 0
      },
      "text/plain": [
       "  0%|          | 0/1 [00:00<?, ?it/s]"
      ]
     },
     "metadata": {},
     "output_type": "display_data"
    },
    {
     "name": "stderr",
     "output_type": "stream",
     "text": [
      "[I 2024-12-23 17:43:40,001] Trial 47 finished with value: 8.022133623643196 and parameters: {'eps': 1.788649529057435}. Best is trial 0 with value: 6.315613215719294.\n"
     ]
    },
    {
     "data": {
      "application/vnd.jupyter.widget-view+json": {
       "model_id": "65b6e8fc3e0942c4a2c8c7bdb2be26cb",
       "version_major": 2,
       "version_minor": 0
      },
      "text/plain": [
       "  0%|          | 0/1 [00:00<?, ?it/s]"
      ]
     },
     "metadata": {},
     "output_type": "display_data"
    },
    {
     "name": "stderr",
     "output_type": "stream",
     "text": [
      "[I 2024-12-23 17:43:41,494] Trial 48 finished with value: 7.550144909853703 and parameters: {'eps': 4.229242874389499}. Best is trial 0 with value: 6.315613215719294.\n"
     ]
    },
    {
     "data": {
      "application/vnd.jupyter.widget-view+json": {
       "model_id": "0f2738d78f014aa8b4244c4967a2001f",
       "version_major": 2,
       "version_minor": 0
      },
      "text/plain": [
       "  0%|          | 0/1 [00:00<?, ?it/s]"
      ]
     },
     "metadata": {},
     "output_type": "display_data"
    },
    {
     "name": "stderr",
     "output_type": "stream",
     "text": [
      "[I 2024-12-23 17:43:48,858] Trial 49 finished with value: 7.950499731850927 and parameters: {'eps': 1.353047774579807}. Best is trial 0 with value: 6.315613215719294.\n"
     ]
    },
    {
     "data": {
      "application/vnd.jupyter.widget-view+json": {
       "model_id": "4fdf5291280a44538b08957bfa5cdbc3",
       "version_major": 2,
       "version_minor": 0
      },
      "text/plain": [
       "  0%|          | 0/1 [00:00<?, ?it/s]"
      ]
     },
     "metadata": {},
     "output_type": "display_data"
    },
    {
     "name": "stderr",
     "output_type": "stream",
     "text": [
      "[I 2024-12-23 17:43:51,751] Trial 50 finished with value: 8.010679468173606 and parameters: {'eps': 1.7475284000076838}. Best is trial 0 with value: 6.315613215719294.\n"
     ]
    },
    {
     "data": {
      "application/vnd.jupyter.widget-view+json": {
       "model_id": "f9e286578a6a41a6a5eae381b1735dd7",
       "version_major": 2,
       "version_minor": 0
      },
      "text/plain": [
       "  0%|          | 0/1 [00:00<?, ?it/s]"
      ]
     },
     "metadata": {},
     "output_type": "display_data"
    },
    {
     "name": "stderr",
     "output_type": "stream",
     "text": [
      "[I 2024-12-23 17:43:56,083] Trial 51 finished with value: 9.289263136574291 and parameters: {'eps': 1.0722672220103233}. Best is trial 0 with value: 6.315613215719294.\n"
     ]
    },
    {
     "data": {
      "application/vnd.jupyter.widget-view+json": {
       "model_id": "5755d8afb52c4a749f677360080694d5",
       "version_major": 2,
       "version_minor": 0
      },
      "text/plain": [
       "  0%|          | 0/1 [00:00<?, ?it/s]"
      ]
     },
     "metadata": {},
     "output_type": "display_data"
    },
    {
     "name": "stderr",
     "output_type": "stream",
     "text": [
      "[I 2024-12-23 17:44:00,116] Trial 52 finished with value: 8.034782709256666 and parameters: {'eps': 1.484968262254465}. Best is trial 0 with value: 6.315613215719294.\n"
     ]
    },
    {
     "data": {
      "application/vnd.jupyter.widget-view+json": {
       "model_id": "7eae3dac28d8478c9cd96ee713be45b3",
       "version_major": 2,
       "version_minor": 0
      },
      "text/plain": [
       "  0%|          | 0/1 [00:00<?, ?it/s]"
      ]
     },
     "metadata": {},
     "output_type": "display_data"
    },
    {
     "name": "stderr",
     "output_type": "stream",
     "text": [
      "[I 2024-12-23 17:44:01,992] Trial 53 finished with value: 8.03586014126676 and parameters: {'eps': 2.420128264794382}. Best is trial 0 with value: 6.315613215719294.\n"
     ]
    },
    {
     "data": {
      "application/vnd.jupyter.widget-view+json": {
       "model_id": "095a5cbba820441cafc5e7683a88031b",
       "version_major": 2,
       "version_minor": 0
      },
      "text/plain": [
       "  0%|          | 0/1 [00:00<?, ?it/s]"
      ]
     },
     "metadata": {},
     "output_type": "display_data"
    },
    {
     "name": "stderr",
     "output_type": "stream",
     "text": [
      "[I 2024-12-23 17:44:09,082] Trial 54 finished with value: 7.8622046598847 and parameters: {'eps': 1.2045035402587823}. Best is trial 0 with value: 6.315613215719294.\n"
     ]
    },
    {
     "data": {
      "application/vnd.jupyter.widget-view+json": {
       "model_id": "941e183f62ce4e15ab15da6e5c74777b",
       "version_major": 2,
       "version_minor": 0
      },
      "text/plain": [
       "  0%|          | 0/1 [00:00<?, ?it/s]"
      ]
     },
     "metadata": {},
     "output_type": "display_data"
    },
    {
     "name": "stderr",
     "output_type": "stream",
     "text": [
      "[I 2024-12-23 17:44:11,258] Trial 55 finished with value: 7.0697600640210805 and parameters: {'eps': 6.135907273413174}. Best is trial 0 with value: 6.315613215719294.\n"
     ]
    },
    {
     "data": {
      "application/vnd.jupyter.widget-view+json": {
       "model_id": "c3374eecdfca48aa8bea20a454a661f4",
       "version_major": 2,
       "version_minor": 0
      },
      "text/plain": [
       "  0%|          | 0/1 [00:00<?, ?it/s]"
      ]
     },
     "metadata": {},
     "output_type": "display_data"
    },
    {
     "name": "stderr",
     "output_type": "stream",
     "text": [
      "[I 2024-12-23 17:44:15,917] Trial 56 finished with value: 8.18523344523975 and parameters: {'eps': 1.1497569953977358}. Best is trial 0 with value: 6.315613215719294.\n"
     ]
    },
    {
     "data": {
      "application/vnd.jupyter.widget-view+json": {
       "model_id": "e36543236a80403881432ccc5f7fccbb",
       "version_major": 2,
       "version_minor": 0
      },
      "text/plain": [
       "  0%|          | 0/1 [00:00<?, ?it/s]"
      ]
     },
     "metadata": {},
     "output_type": "display_data"
    },
    {
     "name": "stderr",
     "output_type": "stream",
     "text": [
      "[I 2024-12-23 17:44:17,435] Trial 57 finished with value: 7.400129237616437 and parameters: {'eps': 4.430621457583881}. Best is trial 0 with value: 6.315613215719294.\n"
     ]
    },
    {
     "data": {
      "application/vnd.jupyter.widget-view+json": {
       "model_id": "ca949dc192f24867baadff61dd1f6a0c",
       "version_major": 2,
       "version_minor": 0
      },
      "text/plain": [
       "  0%|          | 0/1 [00:00<?, ?it/s]"
      ]
     },
     "metadata": {},
     "output_type": "display_data"
    },
    {
     "name": "stderr",
     "output_type": "stream",
     "text": [
      "[I 2024-12-23 17:44:19,319] Trial 58 finished with value: 8.095629357856394 and parameters: {'eps': 2.3101297000831598}. Best is trial 0 with value: 6.315613215719294.\n"
     ]
    },
    {
     "data": {
      "application/vnd.jupyter.widget-view+json": {
       "model_id": "e1a102c5cb484d65b24fb5e5dd0ad26c",
       "version_major": 2,
       "version_minor": 0
      },
      "text/plain": [
       "  0%|          | 0/1 [00:00<?, ?it/s]"
      ]
     },
     "metadata": {},
     "output_type": "display_data"
    },
    {
     "name": "stderr",
     "output_type": "stream",
     "text": [
      "[I 2024-12-23 17:44:22,542] Trial 59 finished with value: 32.49935551104545 and parameters: {'eps': 7.924828983539175}. Best is trial 0 with value: 6.315613215719294.\n"
     ]
    },
    {
     "data": {
      "application/vnd.jupyter.widget-view+json": {
       "model_id": "c4433ec35112413c8878eb227c9e6a52",
       "version_major": 2,
       "version_minor": 0
      },
      "text/plain": [
       "  0%|          | 0/1 [00:00<?, ?it/s]"
      ]
     },
     "metadata": {},
     "output_type": "display_data"
    },
    {
     "name": "stderr",
     "output_type": "stream",
     "text": [
      "[I 2024-12-23 17:44:24,014] Trial 60 finished with value: 7.59225537076524 and parameters: {'eps': 3.6783797718286344}. Best is trial 0 with value: 6.315613215719294.\n"
     ]
    },
    {
     "data": {
      "application/vnd.jupyter.widget-view+json": {
       "model_id": "6781e1a44a1c405fb9205472dd8670b2",
       "version_major": 2,
       "version_minor": 0
      },
      "text/plain": [
       "  0%|          | 0/1 [00:00<?, ?it/s]"
      ]
     },
     "metadata": {},
     "output_type": "display_data"
    },
    {
     "name": "stderr",
     "output_type": "stream",
     "text": [
      "[I 2024-12-23 17:44:24,962] Trial 61 finished with value: 36.921082077789805 and parameters: {'eps': 10.0}. Best is trial 0 with value: 6.315613215719294.\n"
     ]
    },
    {
     "data": {
      "application/vnd.jupyter.widget-view+json": {
       "model_id": "11485c1f4d4b4e5eb0599cc9f3e71206",
       "version_major": 2,
       "version_minor": 0
      },
      "text/plain": [
       "  0%|          | 0/1 [00:00<?, ?it/s]"
      ]
     },
     "metadata": {},
     "output_type": "display_data"
    },
    {
     "name": "stderr",
     "output_type": "stream",
     "text": [
      "[I 2024-12-23 17:44:26,464] Trial 62 finished with value: 7.715569400452431 and parameters: {'eps': 3.511191734215132}. Best is trial 0 with value: 6.315613215719294.\n"
     ]
    },
    {
     "data": {
      "application/vnd.jupyter.widget-view+json": {
       "model_id": "50c3ee938e51441fa73cb0ae7a92f419",
       "version_major": 2,
       "version_minor": 0
      },
      "text/plain": [
       "  0%|          | 0/1 [00:00<?, ?it/s]"
      ]
     },
     "metadata": {},
     "output_type": "display_data"
    },
    {
     "name": "stderr",
     "output_type": "stream",
     "text": [
      "[I 2024-12-23 17:44:28,347] Trial 63 finished with value: 7.616559030562935 and parameters: {'eps': 2.718588242732941}. Best is trial 0 with value: 6.315613215719294.\n"
     ]
    },
    {
     "data": {
      "application/vnd.jupyter.widget-view+json": {
       "model_id": "3c4dd11cbeca490eab4c2a186024cbbb",
       "version_major": 2,
       "version_minor": 0
      },
      "text/plain": [
       "  0%|          | 0/1 [00:00<?, ?it/s]"
      ]
     },
     "metadata": {},
     "output_type": "display_data"
    },
    {
     "name": "stderr",
     "output_type": "stream",
     "text": [
      "[I 2024-12-23 17:44:29,832] Trial 64 finished with value: 7.44654764113859 and parameters: {'eps': 3.1992671377973836}. Best is trial 0 with value: 6.315613215719294.\n"
     ]
    },
    {
     "data": {
      "application/vnd.jupyter.widget-view+json": {
       "model_id": "017adea3490a4e43bf2fcece637c24a8",
       "version_major": 2,
       "version_minor": 0
      },
      "text/plain": [
       "  0%|          | 0/1 [00:00<?, ?it/s]"
      ]
     },
     "metadata": {},
     "output_type": "display_data"
    },
    {
     "name": "stderr",
     "output_type": "stream",
     "text": [
      "[I 2024-12-23 17:44:31,666] Trial 65 finished with value: 7.354990736220071 and parameters: {'eps': 4.7508101621027965}. Best is trial 0 with value: 6.315613215719294.\n"
     ]
    },
    {
     "data": {
      "application/vnd.jupyter.widget-view+json": {
       "model_id": "bf12641d289e4c97960c1831a4bfd56c",
       "version_major": 2,
       "version_minor": 0
      },
      "text/plain": [
       "  0%|          | 0/1 [00:00<?, ?it/s]"
      ]
     },
     "metadata": {},
     "output_type": "display_data"
    },
    {
     "name": "stderr",
     "output_type": "stream",
     "text": [
      "[I 2024-12-23 17:44:33,175] Trial 66 finished with value: 7.425715701653147 and parameters: {'eps': 2.915053062825177}. Best is trial 0 with value: 6.315613215719294.\n"
     ]
    },
    {
     "data": {
      "application/vnd.jupyter.widget-view+json": {
       "model_id": "f25fadcc1ec84cf3bbf31560dcebc0ea",
       "version_major": 2,
       "version_minor": 0
      },
      "text/plain": [
       "  0%|          | 0/1 [00:00<?, ?it/s]"
      ]
     },
     "metadata": {},
     "output_type": "display_data"
    },
    {
     "name": "stderr",
     "output_type": "stream",
     "text": [
      "[I 2024-12-23 17:44:34,998] Trial 67 finished with value: 6.804062082568243 and parameters: {'eps': 4.862601580065355}. Best is trial 0 with value: 6.315613215719294.\n"
     ]
    },
    {
     "data": {
      "application/vnd.jupyter.widget-view+json": {
       "model_id": "ef619c5e86084e85a4df15d2175f1089",
       "version_major": 2,
       "version_minor": 0
      },
      "text/plain": [
       "  0%|          | 0/1 [00:00<?, ?it/s]"
      ]
     },
     "metadata": {},
     "output_type": "display_data"
    },
    {
     "name": "stderr",
     "output_type": "stream",
     "text": [
      "[I 2024-12-23 17:44:36,854] Trial 68 finished with value: 7.4090764891240894 and parameters: {'eps': 4.132012400115338}. Best is trial 0 with value: 6.315613215719294.\n"
     ]
    },
    {
     "data": {
      "application/vnd.jupyter.widget-view+json": {
       "model_id": "0a9ed2b5c022412f974e1b7661f1c8e0",
       "version_major": 2,
       "version_minor": 0
      },
      "text/plain": [
       "  0%|          | 0/1 [00:00<?, ?it/s]"
      ]
     },
     "metadata": {},
     "output_type": "display_data"
    },
    {
     "name": "stderr",
     "output_type": "stream",
     "text": [
      "[I 2024-12-23 17:44:37,879] Trial 69 finished with value: 36.17529043539108 and parameters: {'eps': 9.545484566618342}. Best is trial 0 with value: 6.315613215719294.\n"
     ]
    },
    {
     "data": {
      "application/vnd.jupyter.widget-view+json": {
       "model_id": "eea095df41504765aa20c57872dc3631",
       "version_major": 2,
       "version_minor": 0
      },
      "text/plain": [
       "  0%|          | 0/1 [00:00<?, ?it/s]"
      ]
     },
     "metadata": {},
     "output_type": "display_data"
    },
    {
     "name": "stderr",
     "output_type": "stream",
     "text": [
      "[I 2024-12-23 17:44:40,391] Trial 70 finished with value: 6.961061004702651 and parameters: {'eps': 6.280291441834253}. Best is trial 0 with value: 6.315613215719294.\n"
     ]
    },
    {
     "data": {
      "application/vnd.jupyter.widget-view+json": {
       "model_id": "71a90efa0d8d49d7abb2c2891528ac82",
       "version_major": 2,
       "version_minor": 0
      },
      "text/plain": [
       "  0%|          | 0/1 [00:00<?, ?it/s]"
      ]
     },
     "metadata": {},
     "output_type": "display_data"
    },
    {
     "name": "stderr",
     "output_type": "stream",
     "text": [
      "[I 2024-12-23 17:44:42,298] Trial 71 finished with value: 7.920743307178576 and parameters: {'eps': 2.5950242113997364}. Best is trial 0 with value: 6.315613215719294.\n"
     ]
    },
    {
     "data": {
      "application/vnd.jupyter.widget-view+json": {
       "model_id": "d48c40e395034d25897eea498d07ad2d",
       "version_major": 2,
       "version_minor": 0
      },
      "text/plain": [
       "  0%|          | 0/1 [00:00<?, ?it/s]"
      ]
     },
     "metadata": {},
     "output_type": "display_data"
    },
    {
     "name": "stderr",
     "output_type": "stream",
     "text": [
      "[I 2024-12-23 17:44:43,808] Trial 72 finished with value: 7.603934098991619 and parameters: {'eps': 3.8535285937105295}. Best is trial 0 with value: 6.315613215719294.\n"
     ]
    },
    {
     "data": {
      "application/vnd.jupyter.widget-view+json": {
       "model_id": "5f61f5a181204af0b1d55596a55c7ee5",
       "version_major": 2,
       "version_minor": 0
      },
      "text/plain": [
       "  0%|          | 0/1 [00:00<?, ?it/s]"
      ]
     },
     "metadata": {},
     "output_type": "display_data"
    },
    {
     "name": "stderr",
     "output_type": "stream",
     "text": [
      "[I 2024-12-23 17:44:45,288] Trial 73 finished with value: 7.436271191213811 and parameters: {'eps': 3.0538555088334154}. Best is trial 0 with value: 6.315613215719294.\n"
     ]
    },
    {
     "data": {
      "application/vnd.jupyter.widget-view+json": {
       "model_id": "c2ce63cc9b7d4e57ad03a813985c93dc",
       "version_major": 2,
       "version_minor": 0
      },
      "text/plain": [
       "  0%|          | 0/1 [00:00<?, ?it/s]"
      ]
     },
     "metadata": {},
     "output_type": "display_data"
    },
    {
     "name": "stderr",
     "output_type": "stream",
     "text": [
      "[I 2024-12-23 17:44:47,021] Trial 74 finished with value: 36.867817760487455 and parameters: {'eps': 9.770099572992255}. Best is trial 0 with value: 6.315613215719294.\n"
     ]
    },
    {
     "data": {
      "application/vnd.jupyter.widget-view+json": {
       "model_id": "31d90d7152d948599f62793d3fa98d58",
       "version_major": 2,
       "version_minor": 0
      },
      "text/plain": [
       "  0%|          | 0/1 [00:00<?, ?it/s]"
      ]
     },
     "metadata": {},
     "output_type": "display_data"
    },
    {
     "name": "stderr",
     "output_type": "stream",
     "text": [
      "[I 2024-12-23 17:44:48,483] Trial 75 finished with value: 7.548564570393494 and parameters: {'eps': 3.7649358067924683}. Best is trial 0 with value: 6.315613215719294.\n"
     ]
    },
    {
     "data": {
      "application/vnd.jupyter.widget-view+json": {
       "model_id": "511ea0c2922c4a73af2f9bb880f59355",
       "version_major": 2,
       "version_minor": 0
      },
      "text/plain": [
       "  0%|          | 0/1 [00:00<?, ?it/s]"
      ]
     },
     "metadata": {},
     "output_type": "display_data"
    },
    {
     "name": "stderr",
     "output_type": "stream",
     "text": [
      "[I 2024-12-23 17:44:50,660] Trial 76 finished with value: 6.5826166315200565 and parameters: {'eps': 5.722367659350219}. Best is trial 0 with value: 6.315613215719294.\n"
     ]
    },
    {
     "data": {
      "application/vnd.jupyter.widget-view+json": {
       "model_id": "ae2c5e00cb9f4f2fbb34c26a865d93d6",
       "version_major": 2,
       "version_minor": 0
      },
      "text/plain": [
       "  0%|          | 0/1 [00:00<?, ?it/s]"
      ]
     },
     "metadata": {},
     "output_type": "display_data"
    },
    {
     "name": "stderr",
     "output_type": "stream",
     "text": [
      "[I 2024-12-23 17:44:52,556] Trial 77 finished with value: 8.441548440271205 and parameters: {'eps': 2.1049041445120205}. Best is trial 0 with value: 6.315613215719294.\n"
     ]
    },
    {
     "data": {
      "application/vnd.jupyter.widget-view+json": {
       "model_id": "5b0cd5123a1249c99c7df40210a5798a",
       "version_major": 2,
       "version_minor": 0
      },
      "text/plain": [
       "  0%|          | 0/1 [00:00<?, ?it/s]"
      ]
     },
     "metadata": {},
     "output_type": "display_data"
    },
    {
     "name": "stderr",
     "output_type": "stream",
     "text": [
      "[I 2024-12-23 17:44:53,834] Trial 78 finished with value: 35.988858750673444 and parameters: {'eps': 8.902150854450388}. Best is trial 0 with value: 6.315613215719294.\n"
     ]
    },
    {
     "data": {
      "application/vnd.jupyter.widget-view+json": {
       "model_id": "8c03f2c812544446afbbc7020069623b",
       "version_major": 2,
       "version_minor": 0
      },
      "text/plain": [
       "  0%|          | 0/1 [00:00<?, ?it/s]"
      ]
     },
     "metadata": {},
     "output_type": "display_data"
    },
    {
     "name": "stderr",
     "output_type": "stream",
     "text": [
      "[I 2024-12-23 17:44:55,326] Trial 79 finished with value: 7.610548127001547 and parameters: {'eps': 3.944206059437656}. Best is trial 0 with value: 6.315613215719294.\n"
     ]
    },
    {
     "data": {
      "application/vnd.jupyter.widget-view+json": {
       "model_id": "afc97047d17948d5a9ca12758c757ed3",
       "version_major": 2,
       "version_minor": 0
      },
      "text/plain": [
       "  0%|          | 0/1 [00:00<?, ?it/s]"
      ]
     },
     "metadata": {},
     "output_type": "display_data"
    },
    {
     "name": "stderr",
     "output_type": "stream",
     "text": [
      "[I 2024-12-23 17:44:57,204] Trial 80 finished with value: 7.453256511768375 and parameters: {'eps': 4.328761281083059}. Best is trial 0 with value: 6.315613215719294.\n"
     ]
    },
    {
     "data": {
      "application/vnd.jupyter.widget-view+json": {
       "model_id": "f32c6e5180444e4ca5398854dd3370e9",
       "version_major": 2,
       "version_minor": 0
      },
      "text/plain": [
       "  0%|          | 0/1 [00:00<?, ?it/s]"
      ]
     },
     "metadata": {},
     "output_type": "display_data"
    },
    {
     "name": "stderr",
     "output_type": "stream",
     "text": [
      "[I 2024-12-23 17:45:02,208] Trial 81 finished with value: 6.571704982775342 and parameters: {'eps': 7.054802310718643}. Best is trial 0 with value: 6.315613215719294.\n"
     ]
    },
    {
     "data": {
      "application/vnd.jupyter.widget-view+json": {
       "model_id": "90f6d40eb7ed4bc9b33ed02dca9c213e",
       "version_major": 2,
       "version_minor": 0
      },
      "text/plain": [
       "  0%|          | 0/1 [00:00<?, ?it/s]"
      ]
     },
     "metadata": {},
     "output_type": "display_data"
    },
    {
     "name": "stderr",
     "output_type": "stream",
     "text": [
      "[I 2024-12-23 17:45:04,142] Trial 82 finished with value: 8.102703008797501 and parameters: {'eps': 2.3644894126454075}. Best is trial 0 with value: 6.315613215719294.\n"
     ]
    },
    {
     "data": {
      "application/vnd.jupyter.widget-view+json": {
       "model_id": "33598915c960410c8986ff7882af7d19",
       "version_major": 2,
       "version_minor": 0
      },
      "text/plain": [
       "  0%|          | 0/1 [00:00<?, ?it/s]"
      ]
     },
     "metadata": {},
     "output_type": "display_data"
    },
    {
     "name": "stderr",
     "output_type": "stream",
     "text": [
      "[I 2024-12-23 17:45:06,377] Trial 83 finished with value: 8.045009279186234 and parameters: {'eps': 1.9630406500402708}. Best is trial 0 with value: 6.315613215719294.\n"
     ]
    },
    {
     "data": {
      "application/vnd.jupyter.widget-view+json": {
       "model_id": "9e9b2a10b3c04dabaa40f8255365f59a",
       "version_major": 2,
       "version_minor": 0
      },
      "text/plain": [
       "  0%|          | 0/1 [00:00<?, ?it/s]"
      ]
     },
     "metadata": {},
     "output_type": "display_data"
    },
    {
     "name": "stderr",
     "output_type": "stream",
     "text": [
      "[I 2024-12-23 17:45:10,389] Trial 84 finished with value: 8.667445119425722 and parameters: {'eps': 1.0235310218990261}. Best is trial 0 with value: 6.315613215719294.\n"
     ]
    },
    {
     "data": {
      "application/vnd.jupyter.widget-view+json": {
       "model_id": "7de999dc0ad040cabd8a2baa195274e8",
       "version_major": 2,
       "version_minor": 0
      },
      "text/plain": [
       "  0%|          | 0/1 [00:00<?, ?it/s]"
      ]
     },
     "metadata": {},
     "output_type": "display_data"
    },
    {
     "name": "stderr",
     "output_type": "stream",
     "text": [
      "[I 2024-12-23 17:45:11,873] Trial 85 finished with value: 7.750979038509399 and parameters: {'eps': 3.3516026509388426}. Best is trial 0 with value: 6.315613215719294.\n"
     ]
    },
    {
     "data": {
      "application/vnd.jupyter.widget-view+json": {
       "model_id": "b4585b32c94844fb90f9b1f4dc755d40",
       "version_major": 2,
       "version_minor": 0
      },
      "text/plain": [
       "  0%|          | 0/1 [00:00<?, ?it/s]"
      ]
     },
     "metadata": {},
     "output_type": "display_data"
    },
    {
     "name": "stderr",
     "output_type": "stream",
     "text": [
      "[I 2024-12-23 17:45:15,146] Trial 86 finished with value: 8.571902373307609 and parameters: {'eps': 1.6297508346206442}. Best is trial 0 with value: 6.315613215719294.\n"
     ]
    },
    {
     "data": {
      "application/vnd.jupyter.widget-view+json": {
       "model_id": "14065cc0fe9d466dbb302abfff7bd8a4",
       "version_major": 2,
       "version_minor": 0
      },
      "text/plain": [
       "  0%|          | 0/1 [00:00<?, ?it/s]"
      ]
     },
     "metadata": {},
     "output_type": "display_data"
    },
    {
     "name": "stderr",
     "output_type": "stream",
     "text": [
      "[I 2024-12-23 17:45:18,802] Trial 87 finished with value: 8.681288171940576 and parameters: {'eps': 1.0476157527896648}. Best is trial 0 with value: 6.315613215719294.\n"
     ]
    },
    {
     "data": {
      "application/vnd.jupyter.widget-view+json": {
       "model_id": "83c2c416286d40beb2ec0b7973927d47",
       "version_major": 2,
       "version_minor": 0
      },
      "text/plain": [
       "  0%|          | 0/1 [00:00<?, ?it/s]"
      ]
     },
     "metadata": {},
     "output_type": "display_data"
    },
    {
     "name": "stderr",
     "output_type": "stream",
     "text": [
      "[I 2024-12-23 17:45:22,089] Trial 88 finished with value: 8.037076216344447 and parameters: {'eps': 1.7073526474706908}. Best is trial 0 with value: 6.315613215719294.\n"
     ]
    },
    {
     "data": {
      "application/vnd.jupyter.widget-view+json": {
       "model_id": "604ccaedbdbb4b81b172aa88fc49e7c8",
       "version_major": 2,
       "version_minor": 0
      },
      "text/plain": [
       "  0%|          | 0/1 [00:00<?, ?it/s]"
      ]
     },
     "metadata": {},
     "output_type": "display_data"
    },
    {
     "name": "stderr",
     "output_type": "stream",
     "text": [
      "[I 2024-12-23 17:45:25,622] Trial 89 finished with value: 32.139050466964335 and parameters: {'eps': 7.56463327554629}. Best is trial 0 with value: 6.315613215719294.\n"
     ]
    },
    {
     "data": {
      "application/vnd.jupyter.widget-view+json": {
       "model_id": "e4ead447de5e40dc85b8eff6491d39ca",
       "version_major": 2,
       "version_minor": 0
      },
      "text/plain": [
       "  0%|          | 0/1 [00:00<?, ?it/s]"
      ]
     },
     "metadata": {},
     "output_type": "display_data"
    },
    {
     "name": "stderr",
     "output_type": "stream",
     "text": [
      "[I 2024-12-23 17:45:29,811] Trial 90 finished with value: 34.54813077042499 and parameters: {'eps': 8.302175681319746}. Best is trial 0 with value: 6.315613215719294.\n"
     ]
    },
    {
     "data": {
      "application/vnd.jupyter.widget-view+json": {
       "model_id": "1c4594ae6aee45a09e7ffe4ddcc3715b",
       "version_major": 2,
       "version_minor": 0
      },
      "text/plain": [
       "  0%|          | 0/1 [00:00<?, ?it/s]"
      ]
     },
     "metadata": {},
     "output_type": "display_data"
    },
    {
     "name": "stderr",
     "output_type": "stream",
     "text": [
      "[I 2024-12-23 17:45:31,656] Trial 91 finished with value: 6.645507412978083 and parameters: {'eps': 5.590810182512224}. Best is trial 0 with value: 6.315613215719294.\n"
     ]
    },
    {
     "data": {
      "application/vnd.jupyter.widget-view+json": {
       "model_id": "71bbfe02600347aeb55edf10d6e53481",
       "version_major": 2,
       "version_minor": 0
      },
      "text/plain": [
       "  0%|          | 0/1 [00:00<?, ?it/s]"
      ]
     },
     "metadata": {},
     "output_type": "display_data"
    },
    {
     "name": "stderr",
     "output_type": "stream",
     "text": [
      "[I 2024-12-23 17:45:36,701] Trial 92 finished with value: 31.96031496091037 and parameters: {'eps': 7.390722033525779}. Best is trial 0 with value: 6.315613215719294.\n"
     ]
    },
    {
     "data": {
      "application/vnd.jupyter.widget-view+json": {
       "model_id": "9210767179894f75a9ef87fa8732a2e6",
       "version_major": 2,
       "version_minor": 0
      },
      "text/plain": [
       "  0%|          | 0/1 [00:00<?, ?it/s]"
      ]
     },
     "metadata": {},
     "output_type": "display_data"
    },
    {
     "name": "stderr",
     "output_type": "stream",
     "text": [
      "[I 2024-12-23 17:45:39,943] Trial 93 finished with value: 7.111689949845884 and parameters: {'eps': 6.734150657750823}. Best is trial 0 with value: 6.315613215719294.\n"
     ]
    },
    {
     "data": {
      "application/vnd.jupyter.widget-view+json": {
       "model_id": "a085d140315845e3a97638e7cddea937",
       "version_major": 2,
       "version_minor": 0
      },
      "text/plain": [
       "  0%|          | 0/1 [00:00<?, ?it/s]"
      ]
     },
     "metadata": {},
     "output_type": "display_data"
    },
    {
     "name": "stderr",
     "output_type": "stream",
     "text": [
      "[I 2024-12-23 17:45:43,270] Trial 94 finished with value: 8.07862070852609 and parameters: {'eps': 1.5922827933410924}. Best is trial 0 with value: 6.315613215719294.\n"
     ]
    },
    {
     "data": {
      "application/vnd.jupyter.widget-view+json": {
       "model_id": "595dbed7a7444096a572a22b14fa4b5e",
       "version_major": 2,
       "version_minor": 0
      },
      "text/plain": [
       "  0%|          | 0/1 [00:00<?, ?it/s]"
      ]
     },
     "metadata": {},
     "output_type": "display_data"
    },
    {
     "name": "stderr",
     "output_type": "stream",
     "text": [
      "[I 2024-12-23 17:45:44,774] Trial 95 finished with value: 7.519706829690163 and parameters: {'eps': 4.0370172585965545}. Best is trial 0 with value: 6.315613215719294.\n"
     ]
    },
    {
     "data": {
      "application/vnd.jupyter.widget-view+json": {
       "model_id": "db7703704f744271a13bd7f03c74e059",
       "version_major": 2,
       "version_minor": 0
      },
      "text/plain": [
       "  0%|          | 0/1 [00:00<?, ?it/s]"
      ]
     },
     "metadata": {},
     "output_type": "display_data"
    },
    {
     "name": "stderr",
     "output_type": "stream",
     "text": [
      "[I 2024-12-23 17:45:46,613] Trial 96 finished with value: 6.604026351678811 and parameters: {'eps': 5.214008287999686}. Best is trial 0 with value: 6.315613215719294.\n"
     ]
    },
    {
     "data": {
      "application/vnd.jupyter.widget-view+json": {
       "model_id": "cd9f19879ec9429194eb90604b0af597",
       "version_major": 2,
       "version_minor": 0
      },
      "text/plain": [
       "  0%|          | 0/1 [00:00<?, ?it/s]"
      ]
     },
     "metadata": {},
     "output_type": "display_data"
    },
    {
     "name": "stderr",
     "output_type": "stream",
     "text": [
      "[I 2024-12-23 17:45:51,264] Trial 97 finished with value: 7.985868321766512 and parameters: {'eps': 1.384886371393873}. Best is trial 0 with value: 6.315613215719294.\n"
     ]
    },
    {
     "data": {
      "application/vnd.jupyter.widget-view+json": {
       "model_id": "444ee63bc8a24e8a8c394b6e8871d890",
       "version_major": 2,
       "version_minor": 0
      },
      "text/plain": [
       "  0%|          | 0/1 [00:00<?, ?it/s]"
      ]
     },
     "metadata": {},
     "output_type": "display_data"
    },
    {
     "name": "stderr",
     "output_type": "stream",
     "text": [
      "[I 2024-12-23 17:45:53,231] Trial 98 finished with value: 35.84513593166957 and parameters: {'eps': 8.497534359086444}. Best is trial 0 with value: 6.315613215719294.\n"
     ]
    },
    {
     "data": {
      "application/vnd.jupyter.widget-view+json": {
       "model_id": "00a04dc824854f24962cc77b8b84b1dd",
       "version_major": 2,
       "version_minor": 0
      },
      "text/plain": [
       "  0%|          | 0/1 [00:00<?, ?it/s]"
      ]
     },
     "metadata": {},
     "output_type": "display_data"
    },
    {
     "name": "stderr",
     "output_type": "stream",
     "text": [
      "[I 2024-12-23 17:45:54,745] Trial 99 finished with value: 7.451640587198216 and parameters: {'eps': 3.274549162877729}. Best is trial 0 with value: 6.315613215719294.\n"
     ]
    }
   ],
   "source": [
    "visualize_config = VisualizationConfig(\n",
    "    show_figure=True,\n",
    "    figsize=(8, 6), \n",
    "    title_size = 15, \n",
    "    ot_object_tick=True,\n",
    "    plot_eps_log=eps_log,\n",
    ")\n",
    "\n",
    "sim_mat_format = \"default\"\n",
    "\n",
    "align_representation.gw_alignment(\n",
    "    compute_OT = compute_OT,\n",
    "    delete_results = False,\n",
    "    return_data = False,\n",
    "    return_figure = False,\n",
    "    OT_format = sim_mat_format,\n",
    "    visualization_config = visualize_config,\n",
    ")"
   ]
  },
  {
   "attachments": {},
   "cell_type": "markdown",
   "metadata": {},
   "source": [
    "# Step 4: Evaluation and Visualization\n",
    "Finally, you can evaluate and visualize the unsupervise alignment of GWOT.   "
   ]
  },
  {
   "cell_type": "markdown",
   "metadata": {},
   "source": [
    "## Show how the GWD was optimized\n",
    "`show_optimization_log` will make two figures to show both the relationships between epsilons (x-axis) and GWD (y-axis), and between accuracy (x-axis) and GWD (y-axis).\n",
    "\n"
   ]
  },
  {
   "cell_type": "code",
   "execution_count": 137,
   "metadata": {},
   "outputs": [
    {
     "data": {
      "image/png": "[encoded data removed]",
      "text/plain": [
       "<Figure size 800x600 with 2 Axes>"
      ]
     },
     "metadata": {},
     "output_type": "display_data"
    },
    {
     "data": {
      "image/png": "[encoded data removed]",
      "text/plain": [
       "<Figure size 800x600 with 2 Axes>"
      ]
     },
     "metadata": {},
     "output_type": "display_data"
    }
   ],
   "source": [
    "### Show how the GWD was optimized (evaluation figure)\n",
    "# show both the relationships between epsilons and GWD, and between accuracy and GWD\n",
    "align_representation.show_optimization_log(fig_dir=None, visualization_config=visualize_config) "
   ]
  },
  {
   "attachments": {},
   "cell_type": "markdown",
   "metadata": {},
   "source": [
    "## Evaluation of the accuracy of the unsupervised alignment\n",
    "There are two ways to evaluate the accuracy.  \n",
    "1. Calculate the accuracy based on the OT plan. \n",
    "- For using this method, please set the parameter `eval_type = \"ot_plan\"` in \"calc_accuracy()\".\n",
    "  \n",
    "2. Calculate the matching rate based on the k-nearest neighbors of the embeddings.\n",
    "-  For using this method, please set the parameter `eval_type = \"k_nearest\"` in \"calc_accuracy()\".\n",
    "\n",
    "For both cases, the accuracy evaluation criterion can be adjusted by considering \"top k\".  \n",
    "By setting \"top_k_list\", you can observe how the accuracy increases as the criterion is relaxed."
   ]
  },
  {
   "cell_type": "code",
   "execution_count": 138,
   "metadata": {},
   "outputs": [
    {
     "name": "stdout",
     "output_type": "stream",
     "text": [
      "Top k accuracy : \n",
      "        Group1_vs_Group2\n",
      "top_n                  \n",
      "1                  45.0\n",
      "5                  91.0\n",
      "10                 96.0\n",
      "\n",
      "Mean : \n",
      " top_n\n",
      "1    NaN\n",
      "5    NaN\n",
      "10   NaN\n",
      "dtype: float64\n"
     ]
    },
    {
     "data": {
      "image/png": "[encoded data removed]",
      "text/plain": [
       "<Figure size 500x300 with 1 Axes>"
      ]
     },
     "metadata": {},
     "output_type": "display_data"
    }
   ],
   "source": [
    "## Calculate the accuracy based on the OT plan. \n",
    "align_representation.calc_accuracy(top_k_list = [1, 5, 10], eval_type = \"ot_plan\")\n",
    "align_representation.plot_accuracy(eval_type = \"ot_plan\", scatter = True)\n",
    "\n",
    "top_k_accuracy = align_representation.top_k_accuracy # you can get the dataframe directly "
   ]
  },
  {
   "cell_type": "code",
   "execution_count": 139,
   "metadata": {},
   "outputs": [
    {
     "name": "stdout",
     "output_type": "stream",
     "text": [
      "K nearest matching rate : \n",
      "        Group1_vs_Group2\n",
      "top_n                  \n",
      "1                  39.0\n",
      "5                  84.0\n",
      "10                 92.0\n",
      "\n",
      "Mean : \n",
      " top_n\n",
      "1    NaN\n",
      "5    NaN\n",
      "10   NaN\n",
      "dtype: float64\n"
     ]
    },
    {
     "data": {
      "image/png": "[encoded data removed]",
      "text/plain": [
       "<Figure size 500x300 with 1 Axes>"
      ]
     },
     "metadata": {},
     "output_type": "display_data"
    }
   ],
   "source": [
    "## Calculate the matching rate based on the k-nearest neighbors of the embeddings.\n",
    "align_representation.calc_accuracy(top_k_list = [1, 5, 10], eval_type = \"k_nearest\", metric=metric)\n",
    "align_representation.plot_accuracy(eval_type = \"k_nearest\", scatter = True)\n",
    "\n",
    "k_nearest_matching_rate = align_representation.k_nearest_matching_rate # you can get the dataframe directly "
   ]
  },
  {
   "attachments": {},
   "cell_type": "markdown",
   "metadata": {},
   "source": [
    "## Procrustes Analysis\n",
    "Using optimized transportation plans, you can align the embeddings of each representation to a shared space in an unsupervised manner.  \n",
    "The `\"pivot\"` refers to the target embeddings space to which the other embeddings will be aligned.   \n",
    "You have the option to designate the `\"pivot\"` as one of the representations or the barycenter.  \n",
    "Please ensure that 'pair_number_list' includes all pairs between the pivot and the other Representations.  \n",
    "\n",
    "If you wish to utilize the barycenter, please make use of the method `AlignRepresentation.barycenter_alignment()`.  \n",
    "You can use it in the same manner as you did with `AlignRepresentation.gw_alignment()`."
   ]
  },
  {
   "cell_type": "code",
   "execution_count": 140,
   "metadata": {},
   "outputs": [
    {
     "name": "stdout",
     "output_type": "stream",
     "text": [
      "No category information is given.\n"
     ]
    },
    {
     "data": {
      "image/png": "[encoded data removed]",
      "text/plain": [
       "<Figure size 900x900 with 1 Axes>"
      ]
     },
     "metadata": {},
     "output_type": "display_data"
    }
   ],
   "source": [
    "emb_name = \"PCA\" #\"TSNE\", \"PCA\", \"MDS\"\n",
    "\n",
    "visualization_embedding = VisualizationConfig(\n",
    "    fig_ext='svg',\n",
    "    figsize=(9, 9), \n",
    "    xlabel=\"PC1\",\n",
    "    ylabel=\"PC2\", \n",
    "    marker_size=100,\n",
    "    xlabel_size=40,\n",
    "    ylabel_size=40,\n",
    "    legend_size=20,\n",
    ")\n",
    "\n",
    "align_representation.visualize_embedding(\n",
    "    dim=2, # the dimensionality of the space the points are embedded in. You can choose either 2 or 3.\n",
    "    pivot=0, # the number of one of the representations or the \"barycenter\".\n",
    "    visualization_config=visualization_embedding\n",
    ")"
   ]
  },
  {
   "cell_type": "markdown",
   "metadata": {},
   "source": [
    "## (Option) Visualize the aligned embeddings\n",
    "It is helpful to visually inspect the quality of the unsupervised alignment by plotting the aligned embeddings in 2D or 3D space. \n",
    "\n",
    "Using the optimal transportation plan $\\Gamma∗$, one set of embeddings $X$, \n",
    "and the other set of aligned embeddings are obtained by performing matrix product of the $\\Gamma*$ and $X$. \n",
    "\n",
    "This $\\Gamma* X$ means the new embedding to represent the other set of embedding $Y$ in the space of $X$. \n",
    "\n",
    "Next, the embedding of $X$ and new embedding of $Y$ ($Γ∗X$) in the space of $X$ are concatenated in the axis of the number of embeddings (e.g. experimental stimuli, and so on).  \n",
    "Then, for example, Principle Components Analysis (PCA) is used to project high-dimensional embeddings into 2D or 3D space, but other dimensionality reduction methods are also applicable. \n",
    "\n",
    "And, each one of the two embeddings were plotted in 3D figure after splitting the data into the two embeddings. \n",
    "If there is a known correspondence between the embeddings, the user can visually check whether the aligned embeddings are positioned close to the corresponding embeddings."
   ]
  },
  {
   "cell_type": "code",
   "execution_count": 141,
   "metadata": {},
   "outputs": [],
   "source": [
    "pair = align_representation.pairwise_list[0]\n",
    "\n",
    "ot = pair.OT\n",
    "\n",
    "# plt.imshow(ot, cmap='viridis')\n",
    "# plt.show()"
   ]
  },
  {
   "cell_type": "code",
   "execution_count": 142,
   "metadata": {},
   "outputs": [],
   "source": [
    "source = pair.source.embedding\n",
    "target = pair.target.embedding\n",
    "\n",
    "new_source = pair.OT.T @ target * len(target)\n",
    "new_target = pair.OT @ source * len(source)"
   ]
  },
  {
   "cell_type": "code",
   "execution_count": 143,
   "metadata": {},
   "outputs": [
    {
     "name": "stdout",
     "output_type": "stream",
     "text": [
      "data_name : simulation_corr0.9\n",
      "pairwise_method : combination\n",
      "All the pairs in the list below will be computed. \n",
      "pair: Group1_vs_Group2 eps_list: [1, 10]\n"
     ]
    }
   ],
   "source": [
    "new_rep_list = [\n",
    "    Representation(name=\"Group1\", embedding=source),\n",
    "    Representation(name=\"Group2\", embedding=new_target),\n",
    "]\n",
    "\n",
    "ar = AlignRepresentations(\n",
    "    config=config,\n",
    "    representations_list=new_rep_list,\n",
    "    histogram_matching=False,\n",
    "    # metric=\"cosine\",\n",
    "    main_results_dir=\"../../results/\" + data_select,\n",
    "    data_name=data_select,\n",
    ")"
   ]
  },
  {
   "cell_type": "code",
   "execution_count": 144,
   "metadata": {},
   "outputs": [
    {
     "name": "stdout",
     "output_type": "stream",
     "text": [
      "No category information is given.\n"
     ]
    },
    {
     "data": {
      "image/png": "[encoded data removed]",
      "text/plain": [
       "<Figure size 900x900 with 1 Axes>"
      ]
     },
     "metadata": {},
     "output_type": "display_data"
    }
   ],
   "source": [
    "emb_name = \"PCA\" #\"TSNE\", \"PCA\", \"MDS\"\n",
    "\n",
    "visualization_embedding = VisualizationConfig(\n",
    "    fig_ext='svg',\n",
    "    figsize=(9, 9), \n",
    "    xlabel=\"PC1\",\n",
    "    ylabel=\"PC2\", \n",
    "    marker_size=100,\n",
    "    xlabel_size=40,\n",
    "    ylabel_size=40,\n",
    "    legend_size=20,\n",
    ")\n",
    "\n",
    "ar.visualize_embedding(\n",
    "    dim=2, # the dimensionality of the space the points are embedded in. You can choose either 2 or 3.\n",
    "    method=emb_name, # the method used to embed the points. You can choose either \"PCA\", \"TSNE\", or \"MDS\".\n",
    "    pivot=None, \n",
    "    visualization_config=visualization_embedding\n",
    ")"
   ]
  }
 ],
 "metadata": {
  "kernelspec": {
   "display_name": ".venv",
   "language": "python",
   "name": "python3"
  },
  "language_info": {
   "codemirror_mode": {
    "name": "ipython",
    "version": 3
   },
   "file_extension": ".py",
   "mimetype": "text/x-python",
   "name": "python",
   "nbconvert_exporter": "python",
   "pygments_lexer": "ipython3",
   "version": "3.9.8"
  },
  "orig_nbformat": 4
 },
 "nbformat": 4,
 "nbformat_minor": 2
}
