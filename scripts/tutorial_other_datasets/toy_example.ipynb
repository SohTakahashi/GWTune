{
 "cells": [
  {
   "cell_type": "code",
   "execution_count": 25,
   "id": "f09e4ced-3c2a-4027-a313-f25e39f0e664",
   "metadata": {},
   "outputs": [],
   "source": [
    "import os, sys\n",
    "sys.path.append(os.path.join(os.getcwd(), '../../'))\n",
    "\n",
    "import numpy as np\n",
    "import pandas as pd\n",
    "import pickle as pkl\n",
    "from scipy.spatial import distance\n",
    "import matplotlib, re\n",
    "import matplotlib.pyplot as plt\n",
    "from matplotlib.colors import Normalize\n",
    "from matplotlib.cm import ScalarMappable\n",
    "\n",
    "from src.align_representations import Representation, AlignRepresentations, OptimizationConfig, VisualizationConfig"
   ]
  },
  {
   "cell_type": "code",
   "execution_count": 26,
   "id": "b5ea7031-b9c5-4edd-ade5-01a71c7025f6",
   "metadata": {},
   "outputs": [],
   "source": [
    "dataset = \"demonstration\""
   ]
  },
  {
   "cell_type": "code",
   "execution_count": 27,
   "id": "4ff40f5f-d7b5-4aed-ba1c-c0ccc0aa89b5",
   "metadata": {},
   "outputs": [],
   "source": [
    "def tangled_rope(num_points=100, num_loops=3, radius=1, beta=0.3, pattern=1):\n",
    "    t = np.linspace(0, 2 * np.pi * num_loops, num_points)\n",
    "\n",
    "    radius = radius + beta * t / (2 * np.pi)\n",
    "    \n",
    "    np.random.seed(pattern)\n",
    "    noize = np.random.normal(0, 0.07, num_points)\n",
    "    \n",
    "    if pattern == 1:\n",
    "        x = np.sin(t) * radius\n",
    "        y = np.cos(t) * radius\n",
    "        z = t / (2 * np.pi)\n",
    "        \n",
    "    elif pattern == 2:\n",
    "        x = np.sin(t) * radius + noize\n",
    "        y = np.cos(t) * radius + noize\n",
    "        z = t / (2 * np.pi) + noize\n",
    "        \n",
    "    embedding = np.column_stack((x, y, z))\n",
    "\n",
    "\n",
    "    if pattern == 2:\n",
    "        # embedding = np.rot90(embedding, 1, axes=(0, 1)).T\n",
    "        theta_y = np.radians(90)\n",
    "  \n",
    "        rot_y = np.array([\n",
    "            [ np.cos(theta_y), 0, np.sin(theta_y)],\n",
    "            [0,                1,               0],\n",
    "            [-np.sin(theta_y), 0, np.cos(theta_y)]\n",
    "        ])\n",
    "        \n",
    "        embedding = (rot_y @ embedding.T).T\n",
    "    \n",
    "    return embedding"
   ]
  },
  {
   "cell_type": "code",
   "execution_count": 28,
   "id": "7f30dd73-09c1-4027-a08e-c1b95eec48fe",
   "metadata": {},
   "outputs": [],
   "source": [
    "embedding_1 = tangled_rope(beta=0.3, pattern=1)\n",
    "embedding_2 = tangled_rope(beta=0.3, pattern=2)"
   ]
  },
  {
   "cell_type": "code",
   "execution_count": null,
   "id": "a8ddbf27-ceef-46bb-9ca1-ed04f2c5f4b5",
   "metadata": {},
   "outputs": [],
   "source": [
    "def plot(embedding, pattern=1):\n",
    "    fig = plt.figure()\n",
    "    ax = fig.add_subplot(111, projection='3d')\n",
    "\n",
    "    norm = Normalize(vmin=min(embedding[:, 2]), vmax=max(embedding[:, 2]))\n",
    "    cmap = plt.get_cmap('cool')\n",
    "    scalar_map = ScalarMappable(norm=norm, cmap=cmap)\n",
    "    colors = scalar_map.to_rgba(embedding[:, 2])\n",
    "\n",
    "    ax.scatter(embedding[:, 0], embedding[:, 1], embedding[:, 2], c=colors)\n",
    "\n",
    "    ax.set_xlabel('X')\n",
    "    ax.set_ylabel('Y')\n",
    "    ax.set_zlabel('Z')\n",
    "\n",
    "    plt.show()\n",
    "    return colors\n",
    "    \n",
    "\n",
    "colors1 = plot(embedding_1, pattern=1)\n",
    "colors2 = plot(embedding_2, pattern=2)"
   ]
  },
  {
   "cell_type": "code",
   "execution_count": 30,
   "id": "27b05188-f6bd-410b-8f3c-016e612e12f4",
   "metadata": {},
   "outputs": [],
   "source": [
    "Group1 = Representation(name=\"Embeddings X\", metric=\"euclidean\", embedding=embedding_1)\n",
    "Group2 = Representation(name=\"Embeddings Y\", metric=\"euclidean\", embedding=embedding_2)"
   ]
  },
  {
   "cell_type": "code",
   "execution_count": 31,
   "id": "87e9fa3f-062c-4b48-8443-15b8dc2a7eaf",
   "metadata": {},
   "outputs": [],
   "source": [
    "vis_emb = VisualizationConfig(\n",
    "    figsize=(10, 10), \n",
    "    legend_size=20,\n",
    "    marker_size=100,\n",
    "    cbar_ticks_size=20,\n",
    "    cbar_range=[0, 4],\n",
    "    color_labels=colors1,\n",
    "    xlabel=\"dim1\",\n",
    "    ylabel=\"dim2\",\n",
    "    zlabel=\"dim3\",\n",
    "    font=\"Arial\",\n",
    "    xlabel_size=40,\n",
    "    ylabel_size=40,\n",
    "    zlabel_size=40,\n",
    "    elev=30,\n",
    "    azim=60,\n",
    "    fig_ext='svg',\n",
    "    dpi=300,\n",
    ")\n",
    "\n",
    "vis_emb_2 = VisualizationConfig(\n",
    "    figsize=(10, 10), \n",
    "    legend_size=20,\n",
    "    marker_size=100,\n",
    "    cbar_ticks_size=20,\n",
    "    color_labels=colors1,\n",
    "    xlabel=\"dim1\",\n",
    "    ylabel=\"dim2\",\n",
    "    zlabel=\"dim3\",\n",
    "    font=\"Arial\",\n",
    "    xlabel_size=40,\n",
    "    ylabel_size=40,\n",
    "    zlabel_size=40,\n",
    "    elev=30,\n",
    "    azim=60,\n",
    "    fig_ext='svg',\n",
    "    dpi=300,\n",
    "    markers_list=['X'],\n",
    "    \n",
    ")"
   ]
  },
  {
   "cell_type": "code",
   "execution_count": null,
   "id": "503e8aef-ee1d-440a-af82-13b4cecf75ec",
   "metadata": {},
   "outputs": [],
   "source": [
    "# show embeddings\n",
    "Group1.show_embedding(dim=3, visualization_config=vis_emb, fig_name=\"Embeddings X\", legend=False)\n",
    "Group2.show_embedding(dim=3, visualization_config=vis_emb_2, fig_name=\"Embeddings Y\", legend=False)"
   ]
  },
  {
   "cell_type": "code",
   "execution_count": 33,
   "id": "7a4a7dc1-30c3-441d-96ef-81cf1fc4b764",
   "metadata": {},
   "outputs": [],
   "source": [
    "vis_sim_mat1= VisualizationConfig(\n",
    "    figsize=(14, 14), \n",
    "    title_size = 0, \n",
    "    cmap = \"rocket_r\",\n",
    "    cbar_ticks_size=60,\n",
    "    font=\"Arial\",\n",
    "    xlabel = \"100 points\",\n",
    "    ylabel = \"100 points\",\n",
    "    xlabel_size=60,\n",
    "    ylabel_size=60,\n",
    "    cbar_label=\"Dissimilarity\",\n",
    "    cbar_label_size=80,\n",
    "    cbar_range=[0, 4],\n",
    "    color_labels=colors1,\n",
    "    color_label_width=5,\n",
    "    fig_ext='svg',\n",
    ")\n",
    "\n",
    "vis_sim_mat2= VisualizationConfig(\n",
    "    figsize=(14, 14), \n",
    "    title_size = 0, \n",
    "    cmap = \"rocket_r\",\n",
    "    cbar_ticks_size=60,\n",
    "    font=\"Arial\",\n",
    "    xlabel = \"100 points\",\n",
    "    ylabel = \"100 points\",\n",
    "    xlabel_size=60,\n",
    "    ylabel_size=60,\n",
    "    cbar_label=\"Dissimilarity\",\n",
    "    cbar_label_size=80,\n",
    "    cbar_range=[0, 4],\n",
    "    color_labels=colors1,\n",
    "    color_label_width=5,\n",
    "    fig_ext='svg',\n",
    ")"
   ]
  },
  {
   "cell_type": "code",
   "execution_count": null,
   "id": "43095bd8-edcc-41ae-be0a-cf392e419f6a",
   "metadata": {},
   "outputs": [],
   "source": [
    "Group1.plot_sim_mat(visualization_config=vis_sim_mat1)\n",
    "Group2.plot_sim_mat(visualization_config=vis_sim_mat2)"
   ]
  },
  {
   "cell_type": "code",
   "execution_count": 35,
   "id": "17db7f2b-f6bd-4113-8597-d68a9da76e15",
   "metadata": {},
   "outputs": [],
   "source": [
    "config = OptimizationConfig(\n",
    "    eps_list=[2e-3, 2e-1],\n",
    "    num_trial=100,\n",
    "    sinkhorn_method = 'sinkhorn_log',\n",
    "    db_params={\"drivername\": \"sqlite\"},\n",
    "    n_iter=1,\n",
    "    \n",
    "    # sampler_name=\"tpe\",\n",
    "    # init_mat_plan=\"random\",\n",
    "    \n",
    "    sampler_name=\"grid\",\n",
    "    init_mat_plan=\"uniform\",\n",
    "    \n",
    "    # sampler_name=\"grid\",\n",
    "    # init_mat_plan=\"random\",\n",
    ")"
   ]
  },
  {
   "cell_type": "code",
   "execution_count": 36,
   "id": "b84eba6d-f21d-4e8d-8dcf-27815bb8bfa5",
   "metadata": {},
   "outputs": [],
   "source": [
    "vis_ot = VisualizationConfig(\n",
    "    figsize=(14, 14), \n",
    "    title_size = 0, \n",
    "    cmap = \"rocket_r\",\n",
    "    cbar_ticks_size=30,\n",
    "    font=\"Arial\",\n",
    "    xlabel = \"100 points of Embeddings X\",\n",
    "    ylabel = \"100 points of Embeddings Y\",\n",
    "    xlabel_size=60,\n",
    "    ylabel_size=60,\n",
    "    cbar_label=\"Probability\",\n",
    "    cbar_label_size=80,\n",
    "    color_labels=colors1,\n",
    "    color_label_width=3,\n",
    "    fig_ext='svg',\n",
    ")"
   ]
  },
  {
   "cell_type": "code",
   "execution_count": 37,
   "id": "ad76e853-04e7-476f-a060-508c0f6b90f5",
   "metadata": {},
   "outputs": [],
   "source": [
    "vis_log = VisualizationConfig(\n",
    "    figsize=(8, 6), \n",
    "    title_size = 20, \n",
    "    cmap = \"viridis\",\n",
    "    cbar_ticks_size=20,\n",
    "    font=\"Arial\",\n",
    "    xlabel_size=40,\n",
    "    xticks_size=20,\n",
    "    ylabel_size=40,\n",
    "    yticks_size=20,\n",
    "    cbar_label_size=30,\n",
    "    marker_size=90,\n",
    "    plot_eps_log=True,\n",
    "    fig_ext='svg',\n",
    "    edgecolor=\"black\",\n",
    "    linewidth=1,\n",
    ")"
   ]
  },
  {
   "cell_type": "code",
   "execution_count": null,
   "id": "e2c10945-66df-4bc4-b444-4429a2c8b14d",
   "metadata": {},
   "outputs": [],
   "source": [
    "alignment = AlignRepresentations(\n",
    "    config=config,\n",
    "    representations_list=[Group1, Group2],\n",
    "    main_results_dir=f\"../../results/{dataset}\",\n",
    "    data_name=\"demonstration\"\n",
    ")"
   ]
  },
  {
   "cell_type": "code",
   "execution_count": null,
   "id": "c9c9001e-7880-4fd0-9cd8-15bcefbb91c5",
   "metadata": {},
   "outputs": [],
   "source": [
    "alignment.RSA_get_corr()"
   ]
  },
  {
   "cell_type": "code",
   "execution_count": 40,
   "id": "98c37467-7c64-4e8c-b847-103b247adeac",
   "metadata": {},
   "outputs": [],
   "source": [
    "compute_OT=False"
   ]
  },
  {
   "cell_type": "code",
   "execution_count": null,
   "id": "7d9a0187-3245-4f7f-93a2-4feba862706b",
   "metadata": {},
   "outputs": [],
   "source": [
    "alignment.gw_alignment(\n",
    "    compute_OT=compute_OT,\n",
    "    delete_results=False,\n",
    "    return_figure=True,\n",
    "    visualization_config=vis_ot,\n",
    "    sampler_seed=1,\n",
    ")"
   ]
  },
  {
   "cell_type": "code",
   "execution_count": null,
   "id": "67d014f4-4bf5-4d89-889f-af1ae80f1161",
   "metadata": {},
   "outputs": [],
   "source": [
    "alignment.show_optimization_log(visualization_config=vis_log)"
   ]
  },
  {
   "cell_type": "code",
   "execution_count": null,
   "id": "11c06e0f-ef4e-4d80-8d56-52a8cfc25d48",
   "metadata": {},
   "outputs": [],
   "source": [
    "alignment.calc_accuracy(top_k_list=[1, 3, 5], eval_type=\"ot_plan\")\n",
    "\n",
    "'''\n",
    "uniform\n",
    "Top k accuracy : \n",
    "        Embeddings X_vs_Embeddings Y\n",
    "top_n                              \n",
    "1                              98.0\n",
    "3                             100.0\n",
    "5                             100.0\n",
    "\n",
    "\n",
    "random\n",
    "        Embeddings X_vs_Embeddings Y\n",
    "top_n                              \n",
    "1                              98.0\n",
    "3                             100.0\n",
    "5                             100.0\n",
    "\n",
    "random + grid\n",
    "Top k accuracy : \n",
    "        Embeddings X_vs_Embeddings Y\n",
    "top_n                              \n",
    "1                              98.0\n",
    "3                             100.0\n",
    "5                             100.0\n",
    "\n",
    "'''"
   ]
  },
  {
   "cell_type": "code",
   "execution_count": 44,
   "id": "dbf15c28-23f5-4b48-b2f6-be9a782ea32a",
   "metadata": {},
   "outputs": [],
   "source": [
    "study = alignment.pairwise_list[0].study\n",
    "df_trial = study.trials_dataframe()"
   ]
  },
  {
   "cell_type": "code",
   "execution_count": null,
   "id": "20770074-3f44-4c59-8263-dbf2fd5c8a57",
   "metadata": {},
   "outputs": [],
   "source": [
    "print(df_trial.sort_values(by = \"value\"))"
   ]
  },
  {
   "cell_type": "code",
   "execution_count": null,
   "id": "19838bc6-83b0-4acc-ab0f-57f45abccdb9",
   "metadata": {},
   "outputs": [],
   "source": [
    "plt.style.use(\"default\")\n",
    "plt.rcParams[\"grid.color\"] = \"black\"\n",
    "plt.rcParams['font.family'] = \"Arial\"\n",
    "plt.rcParams.update(plt.rcParamsDefault)\n",
    "styles = matplotlib.style.available\n",
    "darkgrid_style = [s for s in styles if re.match(r\"seaborn-.*-darkgrid\", s)][0]\n",
    "plt.style.use(darkgrid_style)\n",
    "\n",
    "plt.figure(figsize=(8,6))\n",
    "plt.scatter(df_trial[\"params_eps\"], df_trial[\"value\"], s = 90, edgecolor=\"black\", linewidth=1)\n",
    "plt.xlabel(\"epsilon\", fontsize=40)\n",
    "plt.ylabel(\"GWD\", fontsize=40)\n",
    "plt.xscale('log')\n",
    "\n",
    "plt.tick_params(axis='x', which='both', labelsize=20, rotation=0)\n",
    "plt.tick_params(axis='y', which='major', labelsize=20)\n",
    "plt.grid(True, which=\"both\")\n",
    "plt.tight_layout()\n",
    "cbar = plt.colorbar(label=\"GWD\")\n",
    "cbar.ax.tick_params(labelsize=20)\n",
    "plt.savefig(f\"../../results/{dataset}/eps_gwd.svg\")\n",
    "plt.show()"
   ]
  },
  {
   "cell_type": "code",
   "execution_count": 47,
   "id": "4880e71e-31b2-4b88-b9b5-ca13d90c84d1",
   "metadata": {},
   "outputs": [],
   "source": [
    "vis_emb3d = VisualizationConfig(\n",
    "    figsize=(8, 8), \n",
    "    legend_size=20,\n",
    "    marker_size=60,\n",
    "    color_labels=colors1,\n",
    "    fig_ext='svg',\n",
    "    markers_list=['o', 'X'],\n",
    "    xlabel=\"dim1\",\n",
    "    ylabel=\"dim2\",\n",
    "    zlabel=\"dim3\",\n",
    "    font=\"Arial\",\n",
    "    cmap=\"cool\",\n",
    "    colorbar_shrink=0.8,\n",
    "    xlabel_size=40,\n",
    "    ylabel_size=40,\n",
    "    zlabel_size=40,\n",
    ")"
   ]
  },
  {
   "cell_type": "code",
   "execution_count": null,
   "id": "db182129-2dbd-4471-8238-37904cac8ae9",
   "metadata": {},
   "outputs": [],
   "source": [
    "alignment.visualize_embedding(\n",
    "    dim=3, \n",
    "    pivot=0, \n",
    "    visualization_config=vis_emb3d, \n",
    ")"
   ]
  }
 ],
 "metadata": {
  "kernelspec": {
   "display_name": "base",
   "language": "python",
   "name": "python3"
  },
  "language_info": {
   "codemirror_mode": {
    "name": "ipython",
    "version": 3
   },
   "file_extension": ".py",
   "mimetype": "text/x-python",
   "name": "python",
   "nbconvert_exporter": "python",
   "pygments_lexer": "ipython3",
   "version": "3.10.13"
  }
 },
 "nbformat": 4,
 "nbformat_minor": 2
}
